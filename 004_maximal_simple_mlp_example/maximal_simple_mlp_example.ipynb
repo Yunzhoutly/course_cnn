{
 "cells": [
  {
   "cell_type": "markdown",
   "metadata": {
    "toc": true
   },
   "source": [
    "# Introduction\n",
    "\n",
    "In this small Jupyter notebook I want to show a simple example of how to build up and train a MLP for a simple classification task."
   ]
  },
  {
   "cell_type": "markdown",
   "metadata": {},
   "source": [
    "# Check dependencies"
   ]
  },
  {
   "cell_type": "code",
   "execution_count": 1,
   "metadata": {},
   "outputs": [
    {
     "name": "stdout",
     "output_type": "stream",
     "text": [
      "3.1.3\n",
      "1.18.1\n",
      "2.1.0\n"
     ]
    }
   ],
   "source": [
    "import matplotlib\n",
    "print(matplotlib.__version__)\n",
    "\n",
    "import numpy as np\n",
    "print(np.__version__)\n",
    "\n",
    "import tensorflow as tf\n",
    "print(tf.__version__)"
   ]
  },
  {
   "cell_type": "markdown",
   "metadata": {},
   "source": [
    "# Generating some data"
   ]
  },
  {
   "cell_type": "markdown",
   "metadata": {},
   "source": [
    "The following code will generate a 2D matrix X with a random 2D point (x1,x2) in each row.\n",
    "The 1D matrix Y contains the desired labels. In Y, the corresponding value for (x1,x2) will be 1 if the point (x1,x2) is within a unit circle with radius 0.5 and 0 else."
   ]
  },
  {
   "cell_type": "code",
   "execution_count": 2,
   "metadata": {},
   "outputs": [],
   "source": [
    "import numpy as np\n",
    "X = np.random.uniform(low=-1.0, high=+1.0, size=(1000,2))"
   ]
  },
  {
   "cell_type": "code",
   "execution_count": 3,
   "metadata": {},
   "outputs": [
    {
     "data": {
      "text/plain": [
       "(1000, 2)"
      ]
     },
     "execution_count": 3,
     "metadata": {},
     "output_type": "execute_result"
    }
   ],
   "source": [
    "X.shape"
   ]
  },
  {
   "cell_type": "code",
   "execution_count": 4,
   "metadata": {},
   "outputs": [
    {
     "data": {
      "text/plain": [
       "array([[ 0.83083366,  0.77291635],\n",
       "       [-0.67090809, -0.29031336],\n",
       "       [ 0.32880603,  0.58923334],\n",
       "       [-0.49508055, -0.98186088],\n",
       "       [-0.96555781,  0.43268534],\n",
       "       [-0.5084933 ,  0.55422014],\n",
       "       [-0.92465285, -0.54079113],\n",
       "       [ 0.28150128, -0.67394564],\n",
       "       [-0.22657311, -0.10204196],\n",
       "       [ 0.14188403, -0.10230542],\n",
       "       [-0.61236994,  0.93374023],\n",
       "       [-0.19137071,  0.24358752],\n",
       "       [-0.79422916,  0.11345515],\n",
       "       [ 0.3326042 , -0.71602676],\n",
       "       [-0.96749483, -0.94472917]])"
      ]
     },
     "execution_count": 4,
     "metadata": {},
     "output_type": "execute_result"
    }
   ],
   "source": [
    "X[:15]"
   ]
  },
  {
   "cell_type": "code",
   "execution_count": 5,
   "metadata": {},
   "outputs": [],
   "source": [
    "# Try both variants!\n",
    "\n",
    "Y = []\n",
    "for i in range(0,X.shape[0]):\n",
    "    \n",
    "    # variant #1\n",
    "    #if (X[i,0]**2 + X[i,1]**2) < 0.5:\n",
    "        \n",
    "    # variant #2\n",
    "    if (abs(X[i,0])<0.5) and (abs(X[i,1]) < 0.5):\n",
    "        Y.append(1.0)\n",
    "    else:\n",
    "        Y.append(0.0)\n",
    "Y = np.array(Y)"
   ]
  },
  {
   "cell_type": "code",
   "execution_count": 6,
   "metadata": {},
   "outputs": [
    {
     "data": {
      "text/plain": [
       "(1000,)"
      ]
     },
     "execution_count": 6,
     "metadata": {},
     "output_type": "execute_result"
    }
   ],
   "source": [
    "Y.shape"
   ]
  },
  {
   "cell_type": "code",
   "execution_count": 7,
   "metadata": {},
   "outputs": [
    {
     "data": {
      "text/plain": [
       "array([0., 0., 0., 0., 0., 0., 0., 0., 1., 1., 0., 1., 0., 0., 0.])"
      ]
     },
     "execution_count": 7,
     "metadata": {},
     "output_type": "execute_result"
    }
   ],
   "source": [
    "Y[:15]"
   ]
  },
  {
   "cell_type": "code",
   "execution_count": 8,
   "metadata": {},
   "outputs": [
    {
     "data": {
      "image/png": "[encoded data removed]",
      "text/plain": [
       "<Figure size 432x288 with 1 Axes>"
      ]
     },
     "metadata": {
      "needs_background": "light"
     },
     "output_type": "display_data"
    }
   ],
   "source": [
    "import matplotlib.pyplot as plt\n",
    "\n",
    "nr_samples = X.shape[0]\n",
    "for i in range(0,nr_samples):\n",
    "    if Y[i] == 1:\n",
    "        plt.plot(X[i,0], X[i,1], 'r+')\n",
    "    else:\n",
    "        plt.plot(X[i,0], X[i,1], 'bo')\n",
    "\n",
    "plt.show()"
   ]
  },
  {
   "cell_type": "markdown",
   "metadata": {},
   "source": [
    "# Splitting the data into training and test data"
   ]
  },
  {
   "cell_type": "code",
   "execution_count": 9,
   "metadata": {},
   "outputs": [
    {
     "data": {
      "text/plain": [
       "(1000, 2)"
      ]
     },
     "execution_count": 9,
     "metadata": {},
     "output_type": "execute_result"
    }
   ],
   "source": [
    "X.shape"
   ]
  },
  {
   "cell_type": "code",
   "execution_count": 10,
   "metadata": {},
   "outputs": [
    {
     "data": {
      "text/plain": [
       "(1000,)"
      ]
     },
     "execution_count": 10,
     "metadata": {},
     "output_type": "execute_result"
    }
   ],
   "source": [
    "Y.shape"
   ]
  },
  {
   "cell_type": "code",
   "execution_count": 11,
   "metadata": {},
   "outputs": [],
   "source": [
    "n = 750\n",
    "\n",
    "X_train = X[0:n,:]\n",
    "Y_train = Y[0:n]\n",
    "\n",
    "X_test = X[n:1000,:]\n",
    "Y_test = Y[n:1000]"
   ]
  },
  {
   "cell_type": "code",
   "execution_count": 12,
   "metadata": {},
   "outputs": [
    {
     "data": {
      "text/plain": [
       "(750, 2)"
      ]
     },
     "execution_count": 12,
     "metadata": {},
     "output_type": "execute_result"
    }
   ],
   "source": [
    "X_train.shape"
   ]
  },
  {
   "cell_type": "code",
   "execution_count": 13,
   "metadata": {},
   "outputs": [
    {
     "data": {
      "text/plain": [
       "(250, 2)"
      ]
     },
     "execution_count": 13,
     "metadata": {},
     "output_type": "execute_result"
    }
   ],
   "source": [
    "X_test.shape"
   ]
  },
  {
   "cell_type": "code",
   "execution_count": 14,
   "metadata": {},
   "outputs": [
    {
     "data": {
      "text/plain": [
       "(750,)"
      ]
     },
     "execution_count": 14,
     "metadata": {},
     "output_type": "execute_result"
    }
   ],
   "source": [
    "Y_train.shape"
   ]
  },
  {
   "cell_type": "code",
   "execution_count": 15,
   "metadata": {},
   "outputs": [
    {
     "data": {
      "text/plain": [
       "(250,)"
      ]
     },
     "execution_count": 15,
     "metadata": {},
     "output_type": "execute_result"
    }
   ],
   "source": [
    "Y_test.shape"
   ]
  },
  {
   "cell_type": "markdown",
   "metadata": {},
   "source": [
    "# Building a MLP using Keras"
   ]
  },
  {
   "cell_type": "markdown",
   "metadata": {},
   "source": [
    "Here we generate a MLP.\n",
    "\n",
    "The MLP is built with the help of the Keras API, which is integrated in TensorFlow since TensorFlow 2.0.\n",
    "\n",
    "For an overview of Keras, see\n",
    "https://www.tensorflow.org/guide/keras/overview"
   ]
  },
  {
   "cell_type": "code",
   "execution_count": 16,
   "metadata": {},
   "outputs": [
    {
     "name": "stdout",
     "output_type": "stream",
     "text": [
      "Model: \"sequential\"\n",
      "_________________________________________________________________\n",
      "Layer (type)                 Output Shape              Param #   \n",
      "=================================================================\n",
      "hidden1 (Dense)              (None, 4)                 12        \n",
      "_________________________________________________________________\n",
      "hidden2 (Dense)              (None, 3)                 15        \n",
      "_________________________________________________________________\n",
      "output (Dense)               (None, 1)                 4         \n",
      "=================================================================\n",
      "Total params: 31\n",
      "Trainable params: 31\n",
      "Non-trainable params: 0\n",
      "_________________________________________________________________\n"
     ]
    }
   ],
   "source": [
    "from tensorflow.keras.models import Sequential\n",
    "from tensorflow.keras import layers\n",
    "from tensorflow.keras.layers import Dense\n",
    "from tensorflow.keras import backend as K\n",
    "\n",
    "K.clear_session()\n",
    "\n",
    "model = Sequential()\n",
    "model.add(Dense(4, activation=\"relu\", name=\"hidden1\", input_dim=2))\n",
    "model.add(Dense(3, activation=\"relu\", name=\"hidden2\"))\n",
    "model.add(Dense(1, activation=\"linear\", name=\"output\"))\n",
    "\n",
    "model.summary()"
   ]
  },
  {
   "cell_type": "markdown",
   "metadata": {},
   "source": [
    "# Training the MLP using the training data"
   ]
  },
  {
   "cell_type": "markdown",
   "metadata": {},
   "source": [
    "Now we will train the MLP using both the input matrix X and the desired output matrix Y."
   ]
  },
  {
   "cell_type": "code",
   "execution_count": 17,
   "metadata": {},
   "outputs": [
    {
     "name": "stdout",
     "output_type": "stream",
     "text": [
      "Train on 750 samples\n",
      "Epoch 1/300\n",
      "750/750 [==============================] - 0s 526us/sample - loss: 0.2541\n",
      "Epoch 2/300\n",
      "750/750 [==============================] - 0s 111us/sample - loss: 0.2324\n",
      "Epoch 3/300\n",
      "750/750 [==============================] - 0s 94us/sample - loss: 0.2186\n",
      "Epoch 4/300\n",
      "750/750 [==============================] - 0s 160us/sample - loss: 0.2070\n",
      "Epoch 5/300\n",
      "750/750 [==============================] - 0s 139us/sample - loss: 0.1925\n",
      "Epoch 6/300\n",
      "750/750 [==============================] - 0s 115us/sample - loss: 0.1780\n",
      "Epoch 7/300\n",
      "750/750 [==============================] - 0s 133us/sample - loss: 0.1716\n",
      "Epoch 8/300\n",
      "750/750 [==============================] - 0s 104us/sample - loss: 0.1680\n",
      "Epoch 9/300\n",
      "750/750 [==============================] - 0s 107us/sample - loss: 0.1646\n",
      "Epoch 10/300\n",
      "750/750 [==============================] - 0s 95us/sample - loss: 0.1618\n",
      "Epoch 11/300\n",
      "750/750 [==============================] - 0s 88us/sample - loss: 0.1590\n",
      "Epoch 12/300\n",
      "750/750 [==============================] - 0s 121us/sample - loss: 0.1558\n",
      "Epoch 13/300\n",
      "750/750 [==============================] - 0s 131us/sample - loss: 0.1535\n",
      "Epoch 14/300\n",
      "750/750 [==============================] - 0s 138us/sample - loss: 0.1505\n",
      "Epoch 15/300\n",
      "750/750 [==============================] - 0s 111us/sample - loss: 0.1479\n",
      "Epoch 16/300\n",
      "750/750 [==============================] - 0s 94us/sample - loss: 0.1454\n",
      "Epoch 17/300\n",
      "750/750 [==============================] - 0s 117us/sample - loss: 0.1425\n",
      "Epoch 18/300\n",
      "750/750 [==============================] - 0s 125us/sample - loss: 0.1399\n",
      "Epoch 19/300\n",
      "750/750 [==============================] - 0s 120us/sample - loss: 0.1370\n",
      "Epoch 20/300\n",
      "750/750 [==============================] - 0s 139us/sample - loss: 0.1339\n",
      "Epoch 21/300\n",
      "750/750 [==============================] - 0s 147us/sample - loss: 0.1307\n",
      "Epoch 22/300\n",
      "750/750 [==============================] - 0s 121us/sample - loss: 0.1276\n",
      "Epoch 23/300\n",
      "750/750 [==============================] - 0s 111us/sample - loss: 0.1242\n",
      "Epoch 24/300\n",
      "750/750 [==============================] - 0s 147us/sample - loss: 0.1204\n",
      "Epoch 25/300\n",
      "750/750 [==============================] - 0s 135us/sample - loss: 0.1166\n",
      "Epoch 26/300\n",
      "750/750 [==============================] - 0s 107us/sample - loss: 0.1120\n",
      "Epoch 27/300\n",
      "750/750 [==============================] - 0s 135us/sample - loss: 0.1071\n",
      "Epoch 28/300\n",
      "750/750 [==============================] - 0s 124us/sample - loss: 0.1015\n",
      "Epoch 29/300\n",
      "750/750 [==============================] - 0s 116us/sample - loss: 0.0957\n",
      "Epoch 30/300\n",
      "750/750 [==============================] - 0s 137us/sample - loss: 0.0899\n",
      "Epoch 31/300\n",
      "750/750 [==============================] - 0s 122us/sample - loss: 0.0851\n",
      "Epoch 32/300\n",
      "750/750 [==============================] - 0s 104us/sample - loss: 0.0799\n",
      "Epoch 33/300\n",
      "750/750 [==============================] - 0s 102us/sample - loss: 0.0757\n",
      "Epoch 34/300\n",
      "750/750 [==============================] - 0s 147us/sample - loss: 0.0725\n",
      "Epoch 35/300\n",
      "750/750 [==============================] - 0s 94us/sample - loss: 0.0696\n",
      "Epoch 36/300\n",
      "750/750 [==============================] - 0s 139us/sample - loss: 0.0670\n",
      "Epoch 37/300\n",
      "750/750 [==============================] - 0s 91us/sample - loss: 0.0649\n",
      "Epoch 38/300\n",
      "750/750 [==============================] - 0s 89us/sample - loss: 0.0633\n",
      "Epoch 39/300\n",
      "750/750 [==============================] - 0s 113us/sample - loss: 0.0612\n",
      "Epoch 40/300\n",
      "750/750 [==============================] - 0s 89us/sample - loss: 0.0595\n",
      "Epoch 41/300\n",
      "750/750 [==============================] - 0s 78us/sample - loss: 0.0582\n",
      "Epoch 42/300\n",
      "750/750 [==============================] - 0s 104us/sample - loss: 0.0566\n",
      "Epoch 43/300\n",
      "750/750 [==============================] - 0s 92us/sample - loss: 0.0553\n",
      "Epoch 44/300\n",
      "750/750 [==============================] - 0s 96us/sample - loss: 0.0539\n",
      "Epoch 45/300\n",
      "750/750 [==============================] - 0s 80us/sample - loss: 0.05270s - loss: 0.052\n",
      "Epoch 46/300\n",
      "750/750 [==============================] - 0s 117us/sample - loss: 0.0521\n",
      "Epoch 47/300\n",
      "750/750 [==============================] - 0s 87us/sample - loss: 0.0509\n",
      "Epoch 48/300\n",
      "750/750 [==============================] - 0s 99us/sample - loss: 0.0500\n",
      "Epoch 49/300\n",
      "750/750 [==============================] - 0s 80us/sample - loss: 0.0492\n",
      "Epoch 50/300\n",
      "750/750 [==============================] - 0s 92us/sample - loss: 0.0486\n",
      "Epoch 51/300\n",
      "750/750 [==============================] - 0s 72us/sample - loss: 0.0481\n",
      "Epoch 52/300\n",
      "750/750 [==============================] - 0s 123us/sample - loss: 0.0475\n",
      "Epoch 53/300\n",
      "750/750 [==============================] - 0s 110us/sample - loss: 0.0468\n",
      "Epoch 54/300\n",
      "750/750 [==============================] - 0s 83us/sample - loss: 0.0462\n",
      "Epoch 55/300\n",
      "750/750 [==============================] - 0s 106us/sample - loss: 0.0464\n",
      "Epoch 56/300\n",
      "750/750 [==============================] - 0s 88us/sample - loss: 0.0458\n",
      "Epoch 57/300\n",
      "750/750 [==============================] - 0s 115us/sample - loss: 0.0451\n",
      "Epoch 58/300\n",
      "750/750 [==============================] - 0s 121us/sample - loss: 0.0451\n",
      "Epoch 59/300\n",
      "750/750 [==============================] - 0s 105us/sample - loss: 0.0446\n",
      "Epoch 60/300\n",
      "750/750 [==============================] - 0s 159us/sample - loss: 0.0444\n",
      "Epoch 61/300\n",
      "750/750 [==============================] - 0s 95us/sample - loss: 0.0441\n",
      "Epoch 62/300\n",
      "750/750 [==============================] - 0s 110us/sample - loss: 0.0440\n",
      "Epoch 63/300\n",
      "750/750 [==============================] - 0s 93us/sample - loss: 0.0438\n",
      "Epoch 64/300\n",
      "750/750 [==============================] - 0s 116us/sample - loss: 0.0434\n",
      "Epoch 65/300\n",
      "750/750 [==============================] - 0s 134us/sample - loss: 0.0435\n",
      "Epoch 66/300\n",
      "750/750 [==============================] - 0s 88us/sample - loss: 0.0438\n",
      "Epoch 67/300\n",
      "750/750 [==============================] - 0s 145us/sample - loss: 0.0435\n",
      "Epoch 68/300\n",
      "750/750 [==============================] - 0s 135us/sample - loss: 0.0429\n",
      "Epoch 69/300\n",
      "750/750 [==============================] - 0s 83us/sample - loss: 0.0431\n",
      "Epoch 70/300\n",
      "750/750 [==============================] - 0s 123us/sample - loss: 0.0430\n",
      "Epoch 71/300\n",
      "750/750 [==============================] - 0s 88us/sample - loss: 0.0428\n",
      "Epoch 72/300\n",
      "750/750 [==============================] - 0s 140us/sample - loss: 0.0429\n",
      "Epoch 73/300\n",
      "750/750 [==============================] - 0s 80us/sample - loss: 0.0424\n",
      "Epoch 74/300\n",
      "750/750 [==============================] - 0s 65us/sample - loss: 0.0427\n",
      "Epoch 75/300\n",
      "750/750 [==============================] - 0s 153us/sample - loss: 0.0423\n",
      "Epoch 76/300\n",
      "750/750 [==============================] - 0s 117us/sample - loss: 0.0424\n",
      "Epoch 77/300\n",
      "750/750 [==============================] - 0s 89us/sample - loss: 0.0424\n",
      "Epoch 78/300\n",
      "750/750 [==============================] - 0s 115us/sample - loss: 0.0422\n",
      "Epoch 79/300\n",
      "750/750 [==============================] - 0s 96us/sample - loss: 0.0423\n",
      "Epoch 80/300\n",
      "750/750 [==============================] - 0s 95us/sample - loss: 0.0423\n",
      "Epoch 81/300\n",
      "750/750 [==============================] - 0s 62us/sample - loss: 0.0421\n",
      "Epoch 82/300\n",
      "750/750 [==============================] - 0s 83us/sample - loss: 0.0420\n",
      "Epoch 83/300\n",
      "750/750 [==============================] - 0s 135us/sample - loss: 0.0420\n",
      "Epoch 84/300\n",
      "750/750 [==============================] - 0s 119us/sample - loss: 0.0421\n",
      "Epoch 85/300\n",
      "750/750 [==============================] - 0s 102us/sample - loss: 0.0417\n",
      "Epoch 86/300\n",
      "750/750 [==============================] - 0s 67us/sample - loss: 0.0417\n",
      "Epoch 87/300\n",
      "750/750 [==============================] - 0s 87us/sample - loss: 0.0417\n",
      "Epoch 88/300\n",
      "750/750 [==============================] - 0s 89us/sample - loss: 0.0417\n",
      "Epoch 89/300\n",
      "750/750 [==============================] - 0s 126us/sample - loss: 0.0416\n",
      "Epoch 90/300\n",
      "750/750 [==============================] - 0s 86us/sample - loss: 0.0415\n",
      "Epoch 91/300\n",
      "750/750 [==============================] - 0s 91us/sample - loss: 0.0414\n",
      "Epoch 92/300\n",
      "750/750 [==============================] - 0s 85us/sample - loss: 0.0413\n",
      "Epoch 93/300\n",
      "750/750 [==============================] - 0s 103us/sample - loss: 0.0414\n",
      "Epoch 94/300\n",
      "750/750 [==============================] - 0s 100us/sample - loss: 0.0413\n",
      "Epoch 95/300\n",
      "750/750 [==============================] - 0s 211us/sample - loss: 0.0414\n",
      "Epoch 96/300\n",
      "750/750 [==============================] - 0s 146us/sample - loss: 0.0417\n",
      "Epoch 97/300\n",
      "750/750 [==============================] - 0s 158us/sample - loss: 0.0412\n",
      "Epoch 98/300\n",
      "750/750 [==============================] - 0s 55us/sample - loss: 0.0411\n",
      "Epoch 99/300\n",
      "750/750 [==============================] - 0s 127us/sample - loss: 0.0411\n",
      "Epoch 100/300\n",
      "750/750 [==============================] - 0s 58us/sample - loss: 0.0411\n",
      "Epoch 101/300\n",
      "750/750 [==============================] - 0s 123us/sample - loss: 0.0411\n",
      "Epoch 102/300\n",
      "750/750 [==============================] - 0s 76us/sample - loss: 0.0410\n",
      "Epoch 103/300\n",
      "750/750 [==============================] - 0s 104us/sample - loss: 0.0411\n",
      "Epoch 104/300\n",
      "750/750 [==============================] - 0s 62us/sample - loss: 0.0412\n",
      "Epoch 105/300\n",
      "750/750 [==============================] - 0s 121us/sample - loss: 0.0410\n",
      "Epoch 106/300\n",
      "750/750 [==============================] - 0s 61us/sample - loss: 0.0410\n",
      "Epoch 107/300\n",
      "750/750 [==============================] - 0s 119us/sample - loss: 0.0415\n",
      "Epoch 108/300\n",
      "750/750 [==============================] - 0s 263us/sample - loss: 0.0411\n",
      "Epoch 109/300\n",
      "750/750 [==============================] - 0s 123us/sample - loss: 0.0409\n",
      "Epoch 110/300\n",
      "750/750 [==============================] - 0s 117us/sample - loss: 0.0412\n",
      "Epoch 111/300\n",
      "750/750 [==============================] - 0s 99us/sample - loss: 0.0410\n",
      "Epoch 112/300\n",
      "750/750 [==============================] - 0s 134us/sample - loss: 0.0406\n",
      "Epoch 113/300\n",
      "750/750 [==============================] - 0s 161us/sample - loss: 0.0404\n",
      "Epoch 114/300\n",
      "750/750 [==============================] - 0s 166us/sample - loss: 0.0406\n",
      "Epoch 115/300\n",
      "750/750 [==============================] - 0s 142us/sample - loss: 0.0407\n",
      "Epoch 116/300\n",
      "750/750 [==============================] - 0s 92us/sample - loss: 0.0406\n",
      "Epoch 117/300\n",
      "750/750 [==============================] - 0s 153us/sample - loss: 0.0404\n",
      "Epoch 118/300\n",
      "750/750 [==============================] - 0s 182us/sample - loss: 0.0404\n",
      "Epoch 119/300\n",
      "750/750 [==============================] - 0s 151us/sample - loss: 0.0402\n",
      "Epoch 120/300\n",
      "750/750 [==============================] - 0s 174us/sample - loss: 0.0401\n",
      "Epoch 121/300\n",
      "750/750 [==============================] - 0s 129us/sample - loss: 0.0403\n",
      "Epoch 122/300\n",
      "750/750 [==============================] - 0s 135us/sample - loss: 0.0403\n",
      "Epoch 123/300\n",
      "750/750 [==============================] - 0s 168us/sample - loss: 0.0402\n",
      "Epoch 124/300\n",
      "750/750 [==============================] - 0s 128us/sample - loss: 0.0401\n",
      "Epoch 125/300\n",
      "750/750 [==============================] - 0s 135us/sample - loss: 0.0401\n",
      "Epoch 126/300\n",
      "750/750 [==============================] - 0s 114us/sample - loss: 0.0402\n",
      "Epoch 127/300\n",
      "750/750 [==============================] - 0s 121us/sample - loss: 0.0404\n",
      "Epoch 128/300\n",
      "750/750 [==============================] - 0s 46us/sample - loss: 0.0399\n",
      "Epoch 129/300\n",
      "750/750 [==============================] - 0s 74us/sample - loss: 0.0399\n",
      "Epoch 130/300\n",
      "750/750 [==============================] - 0s 130us/sample - loss: 0.0400\n",
      "Epoch 131/300\n",
      "750/750 [==============================] - 0s 95us/sample - loss: 0.0398\n",
      "Epoch 132/300\n",
      "750/750 [==============================] - 0s 125us/sample - loss: 0.0396\n",
      "Epoch 133/300\n",
      "750/750 [==============================] - 0s 87us/sample - loss: 0.0397\n",
      "Epoch 134/300\n",
      "750/750 [==============================] - 0s 76us/sample - loss: 0.0397\n",
      "Epoch 135/300\n",
      "750/750 [==============================] - 0s 77us/sample - loss: 0.0398\n",
      "Epoch 136/300\n",
      "750/750 [==============================] - 0s 116us/sample - loss: 0.0397\n",
      "Epoch 137/300\n",
      "750/750 [==============================] - 0s 88us/sample - loss: 0.0397\n",
      "Epoch 138/300\n",
      "750/750 [==============================] - 0s 132us/sample - loss: 0.0396\n",
      "Epoch 139/300\n",
      "750/750 [==============================] - 0s 160us/sample - loss: 0.0396\n",
      "Epoch 140/300\n",
      "750/750 [==============================] - 0s 110us/sample - loss: 0.0394\n",
      "Epoch 141/300\n",
      "750/750 [==============================] - 0s 164us/sample - loss: 0.0396\n",
      "Epoch 142/300\n",
      "750/750 [==============================] - 0s 92us/sample - loss: 0.0394\n",
      "Epoch 143/300\n",
      "750/750 [==============================] - 0s 138us/sample - loss: 0.0394\n",
      "Epoch 144/300\n",
      "750/750 [==============================] - 0s 163us/sample - loss: 0.0394\n",
      "Epoch 145/300\n",
      "750/750 [==============================] - 0s 151us/sample - loss: 0.0394\n",
      "Epoch 146/300\n",
      "750/750 [==============================] - 0s 182us/sample - loss: 0.0393\n",
      "Epoch 147/300\n",
      "750/750 [==============================] - 0s 121us/sample - loss: 0.0394\n",
      "Epoch 148/300\n",
      "750/750 [==============================] - 0s 174us/sample - loss: 0.0397\n",
      "Epoch 149/300\n",
      "750/750 [==============================] - 0s 115us/sample - loss: 0.0393\n",
      "Epoch 150/300\n",
      "750/750 [==============================] - 0s 130us/sample - loss: 0.0392\n",
      "Epoch 151/300\n",
      "750/750 [==============================] - 0s 137us/sample - loss: 0.0395\n",
      "Epoch 152/300\n",
      "750/750 [==============================] - 0s 85us/sample - loss: 0.0392\n",
      "Epoch 153/300\n",
      "750/750 [==============================] - 0s 88us/sample - loss: 0.0392\n",
      "Epoch 154/300\n",
      "750/750 [==============================] - 0s 117us/sample - loss: 0.0393\n",
      "Epoch 155/300\n",
      "750/750 [==============================] - 0s 138us/sample - loss: 0.0392\n",
      "Epoch 156/300\n",
      "750/750 [==============================] - 0s 154us/sample - loss: 0.0392\n",
      "Epoch 157/300\n",
      "750/750 [==============================] - 0s 162us/sample - loss: 0.0392\n",
      "Epoch 158/300\n",
      "750/750 [==============================] - 0s 104us/sample - loss: 0.0391\n",
      "Epoch 159/300\n",
      "750/750 [==============================] - 0s 143us/sample - loss: 0.0393\n",
      "Epoch 160/300\n",
      "750/750 [==============================] - 0s 102us/sample - loss: 0.0393\n",
      "Epoch 161/300\n",
      "750/750 [==============================] - 0s 123us/sample - loss: 0.0393\n",
      "Epoch 162/300\n",
      "750/750 [==============================] - 0s 71us/sample - loss: 0.0391\n",
      "Epoch 163/300\n",
      "750/750 [==============================] - 0s 189us/sample - loss: 0.0391\n",
      "Epoch 164/300\n",
      "750/750 [==============================] - 0s 90us/sample - loss: 0.0390\n",
      "Epoch 165/300\n",
      "750/750 [==============================] - 0s 119us/sample - loss: 0.0390\n",
      "Epoch 166/300\n",
      "750/750 [==============================] - 0s 152us/sample - loss: 0.0392\n",
      "Epoch 167/300\n",
      "750/750 [==============================] - 0s 126us/sample - loss: 0.0391\n",
      "Epoch 168/300\n",
      "750/750 [==============================] - 0s 70us/sample - loss: 0.0394\n",
      "Epoch 169/300\n",
      "750/750 [==============================] - 0s 128us/sample - loss: 0.0391\n",
      "Epoch 170/300\n",
      "750/750 [==============================] - 0s 81us/sample - loss: 0.0388\n",
      "Epoch 171/300\n",
      "750/750 [==============================] - 0s 108us/sample - loss: 0.0389\n",
      "Epoch 172/300\n",
      "750/750 [==============================] - 0s 125us/sample - loss: 0.0389\n",
      "Epoch 173/300\n",
      "750/750 [==============================] - 0s 107us/sample - loss: 0.0392\n",
      "Epoch 174/300\n",
      "750/750 [==============================] - 0s 107us/sample - loss: 0.0387\n",
      "Epoch 175/300\n",
      "750/750 [==============================] - 0s 100us/sample - loss: 0.0386\n",
      "Epoch 176/300\n",
      "750/750 [==============================] - 0s 122us/sample - loss: 0.0387\n",
      "Epoch 177/300\n",
      "750/750 [==============================] - 0s 120us/sample - loss: 0.0388\n",
      "Epoch 178/300\n",
      "750/750 [==============================] - 0s 103us/sample - loss: 0.0391\n",
      "Epoch 179/300\n",
      "750/750 [==============================] - 0s 112us/sample - loss: 0.0388\n",
      "Epoch 180/300\n",
      "750/750 [==============================] - 0s 150us/sample - loss: 0.0387\n",
      "Epoch 181/300\n",
      "750/750 [==============================] - 0s 165us/sample - loss: 0.0387\n",
      "Epoch 182/300\n",
      "750/750 [==============================] - 0s 135us/sample - loss: 0.0386s - loss: 0.038\n",
      "Epoch 183/300\n",
      "750/750 [==============================] - 0s 161us/sample - loss: 0.0385\n",
      "Epoch 184/300\n",
      "750/750 [==============================] - 0s 158us/sample - loss: 0.0386\n",
      "Epoch 185/300\n",
      "750/750 [==============================] - 0s 121us/sample - loss: 0.0387\n",
      "Epoch 186/300\n",
      "750/750 [==============================] - 0s 164us/sample - loss: 0.0387\n",
      "Epoch 187/300\n",
      "750/750 [==============================] - 0s 107us/sample - loss: 0.0387\n",
      "Epoch 188/300\n",
      "750/750 [==============================] - 0s 128us/sample - loss: 0.0386\n",
      "Epoch 189/300\n",
      "750/750 [==============================] - 0s 143us/sample - loss: 0.0387\n",
      "Epoch 190/300\n",
      "750/750 [==============================] - 0s 104us/sample - loss: 0.0385\n",
      "Epoch 191/300\n",
      "750/750 [==============================] - 0s 155us/sample - loss: 0.0385\n",
      "Epoch 192/300\n",
      "750/750 [==============================] - 0s 108us/sample - loss: 0.0387\n",
      "Epoch 193/300\n",
      "750/750 [==============================] - 0s 124us/sample - loss: 0.0386\n",
      "Epoch 194/300\n",
      "750/750 [==============================] - 0s 112us/sample - loss: 0.0387\n",
      "Epoch 195/300\n",
      "750/750 [==============================] - 0s 165us/sample - loss: 0.0386\n",
      "Epoch 196/300\n",
      "750/750 [==============================] - 0s 222us/sample - loss: 0.0386\n",
      "Epoch 197/300\n",
      "750/750 [==============================] - 0s 189us/sample - loss: 0.0384\n",
      "Epoch 198/300\n",
      "750/750 [==============================] - 0s 222us/sample - loss: 0.0382\n",
      "Epoch 199/300\n",
      "750/750 [==============================] - 0s 134us/sample - loss: 0.0382\n",
      "Epoch 200/300\n",
      "750/750 [==============================] - 0s 208us/sample - loss: 0.0383\n",
      "Epoch 201/300\n",
      "750/750 [==============================] - 0s 171us/sample - loss: 0.0382\n",
      "Epoch 202/300\n",
      "750/750 [==============================] - 0s 287us/sample - loss: 0.0388\n",
      "Epoch 203/300\n",
      "750/750 [==============================] - 0s 95us/sample - loss: 0.0383\n",
      "Epoch 204/300\n",
      "750/750 [==============================] - 0s 132us/sample - loss: 0.0382\n",
      "Epoch 205/300\n",
      "750/750 [==============================] - 0s 200us/sample - loss: 0.0384\n",
      "Epoch 206/300\n",
      "750/750 [==============================] - 0s 186us/sample - loss: 0.0383\n",
      "Epoch 207/300\n",
      "750/750 [==============================] - 0s 149us/sample - loss: 0.0384\n",
      "Epoch 208/300\n",
      "750/750 [==============================] - 0s 124us/sample - loss: 0.0381\n",
      "Epoch 209/300\n",
      "750/750 [==============================] - 0s 127us/sample - loss: 0.0385\n",
      "Epoch 210/300\n",
      "750/750 [==============================] - 0s 135us/sample - loss: 0.0381\n",
      "Epoch 211/300\n",
      "750/750 [==============================] - 0s 140us/sample - loss: 0.0381\n",
      "Epoch 212/300\n",
      "750/750 [==============================] - 0s 110us/sample - loss: 0.0380\n",
      "Epoch 213/300\n",
      "750/750 [==============================] - 0s 104us/sample - loss: 0.0380\n",
      "Epoch 214/300\n",
      "750/750 [==============================] - 0s 103us/sample - loss: 0.0380\n",
      "Epoch 215/300\n",
      "750/750 [==============================] - ETA: 0s - loss: 0.041 - 0s 128us/sample - loss: 0.0381\n",
      "Epoch 216/300\n",
      "750/750 [==============================] - 0s 129us/sample - loss: 0.0381\n",
      "Epoch 217/300\n",
      "750/750 [==============================] - 0s 147us/sample - loss: 0.0381\n",
      "Epoch 218/300\n",
      "750/750 [==============================] - 0s 85us/sample - loss: 0.0382\n",
      "Epoch 219/300\n",
      "750/750 [==============================] - 0s 201us/sample - loss: 0.0380\n",
      "Epoch 220/300\n",
      "750/750 [==============================] - 0s 107us/sample - loss: 0.0382\n",
      "Epoch 221/300\n",
      "750/750 [==============================] - 0s 135us/sample - loss: 0.0380\n",
      "Epoch 222/300\n",
      "750/750 [==============================] - 0s 152us/sample - loss: 0.0386\n",
      "Epoch 223/300\n",
      "750/750 [==============================] - 0s 132us/sample - loss: 0.0380\n",
      "Epoch 224/300\n",
      "750/750 [==============================] - 0s 183us/sample - loss: 0.0378\n",
      "Epoch 225/300\n",
      "750/750 [==============================] - 0s 164us/sample - loss: 0.0379\n",
      "Epoch 226/300\n",
      "750/750 [==============================] - 0s 133us/sample - loss: 0.0380\n",
      "Epoch 227/300\n",
      "750/750 [==============================] - 0s 96us/sample - loss: 0.0378\n",
      "Epoch 228/300\n",
      "750/750 [==============================] - 0s 90us/sample - loss: 0.0378\n",
      "Epoch 229/300\n",
      "750/750 [==============================] - 0s 97us/sample - loss: 0.0381\n",
      "Epoch 230/300\n",
      "750/750 [==============================] - 0s 99us/sample - loss: 0.0378\n",
      "Epoch 231/300\n",
      "750/750 [==============================] - 0s 81us/sample - loss: 0.0380\n",
      "Epoch 232/300\n",
      "750/750 [==============================] - 0s 108us/sample - loss: 0.0380\n",
      "Epoch 233/300\n",
      "750/750 [==============================] - 0s 95us/sample - loss: 0.0379\n",
      "Epoch 234/300\n",
      "750/750 [==============================] - 0s 136us/sample - loss: 0.0379\n",
      "Epoch 235/300\n",
      "750/750 [==============================] - 0s 89us/sample - loss: 0.0381\n",
      "Epoch 236/300\n",
      "750/750 [==============================] - 0s 176us/sample - loss: 0.0378\n",
      "Epoch 237/300\n",
      "750/750 [==============================] - 0s 80us/sample - loss: 0.0376\n",
      "Epoch 238/300\n",
      "750/750 [==============================] - 0s 119us/sample - loss: 0.0380\n",
      "Epoch 239/300\n",
      "750/750 [==============================] - 0s 122us/sample - loss: 0.0384\n",
      "Epoch 240/300\n",
      "750/750 [==============================] - 0s 110us/sample - loss: 0.0376\n",
      "Epoch 241/300\n",
      "750/750 [==============================] - 0s 82us/sample - loss: 0.0376\n",
      "Epoch 242/300\n",
      "750/750 [==============================] - 0s 115us/sample - loss: 0.0374\n",
      "Epoch 243/300\n",
      "750/750 [==============================] - 0s 126us/sample - loss: 0.0374\n",
      "Epoch 244/300\n",
      "750/750 [==============================] - 0s 136us/sample - loss: 0.0375\n",
      "Epoch 245/300\n",
      "750/750 [==============================] - 0s 166us/sample - loss: 0.0376\n",
      "Epoch 246/300\n",
      "750/750 [==============================] - 0s 220us/sample - loss: 0.0377\n",
      "Epoch 247/300\n",
      "750/750 [==============================] - 0s 108us/sample - loss: 0.0373\n",
      "Epoch 248/300\n",
      "750/750 [==============================] - 0s 152us/sample - loss: 0.0376\n",
      "Epoch 249/300\n",
      "750/750 [==============================] - 0s 147us/sample - loss: 0.0374\n",
      "Epoch 250/300\n",
      "750/750 [==============================] - 0s 186us/sample - loss: 0.0373\n",
      "Epoch 251/300\n",
      "750/750 [==============================] - 0s 202us/sample - loss: 0.0375\n",
      "Epoch 252/300\n",
      "750/750 [==============================] - 0s 83us/sample - loss: 0.0372\n",
      "Epoch 253/300\n",
      "750/750 [==============================] - 0s 128us/sample - loss: 0.0375\n",
      "Epoch 254/300\n",
      "750/750 [==============================] - 0s 141us/sample - loss: 0.0373\n",
      "Epoch 255/300\n",
      "750/750 [==============================] - 0s 140us/sample - loss: 0.0372\n",
      "Epoch 256/300\n",
      "750/750 [==============================] - 0s 140us/sample - loss: 0.0373\n",
      "Epoch 257/300\n",
      "750/750 [==============================] - 0s 174us/sample - loss: 0.0373\n",
      "Epoch 258/300\n",
      "750/750 [==============================] - 0s 110us/sample - loss: 0.0374\n",
      "Epoch 259/300\n",
      "750/750 [==============================] - 0s 284us/sample - loss: 0.0373\n",
      "Epoch 260/300\n",
      "750/750 [==============================] - 0s 123us/sample - loss: 0.0373\n",
      "Epoch 261/300\n",
      "750/750 [==============================] - 0s 72us/sample - loss: 0.0374\n",
      "Epoch 262/300\n",
      "750/750 [==============================] - 0s 153us/sample - loss: 0.0374\n",
      "Epoch 263/300\n",
      "750/750 [==============================] - 0s 122us/sample - loss: 0.0373\n",
      "Epoch 264/300\n",
      "750/750 [==============================] - 0s 145us/sample - loss: 0.0375\n",
      "Epoch 265/300\n",
      "750/750 [==============================] - 0s 159us/sample - loss: 0.0371\n",
      "Epoch 266/300\n",
      "750/750 [==============================] - 0s 152us/sample - loss: 0.0374\n",
      "Epoch 267/300\n",
      "750/750 [==============================] - 0s 151us/sample - loss: 0.0375\n",
      "Epoch 268/300\n",
      "750/750 [==============================] - 0s 172us/sample - loss: 0.0374\n",
      "Epoch 269/300\n",
      "750/750 [==============================] - 0s 123us/sample - loss: 0.0372\n",
      "Epoch 270/300\n",
      "750/750 [==============================] - 0s 113us/sample - loss: 0.0372\n",
      "Epoch 271/300\n",
      "750/750 [==============================] - 0s 124us/sample - loss: 0.0371\n",
      "Epoch 272/300\n",
      "750/750 [==============================] - 0s 145us/sample - loss: 0.0370\n",
      "Epoch 273/300\n",
      "750/750 [==============================] - 0s 216us/sample - loss: 0.0371\n",
      "Epoch 274/300\n",
      "750/750 [==============================] - 0s 117us/sample - loss: 0.0371\n",
      "Epoch 275/300\n",
      "750/750 [==============================] - 0s 222us/sample - loss: 0.0371\n",
      "Epoch 276/300\n",
      "750/750 [==============================] - 0s 171us/sample - loss: 0.0370\n",
      "Epoch 277/300\n",
      "750/750 [==============================] - 0s 200us/sample - loss: 0.0374\n",
      "Epoch 278/300\n",
      "750/750 [==============================] - 0s 215us/sample - loss: 0.0370\n",
      "Epoch 279/300\n",
      "750/750 [==============================] - 0s 183us/sample - loss: 0.0371\n",
      "Epoch 280/300\n",
      "750/750 [==============================] - 0s 221us/sample - loss: 0.0370\n",
      "Epoch 281/300\n",
      "750/750 [==============================] - 0s 102us/sample - loss: 0.0371\n",
      "Epoch 282/300\n",
      "750/750 [==============================] - 0s 129us/sample - loss: 0.0371\n",
      "Epoch 283/300\n",
      "750/750 [==============================] - 0s 142us/sample - loss: 0.0369\n",
      "Epoch 284/300\n",
      "750/750 [==============================] - 0s 159us/sample - loss: 0.0369\n",
      "Epoch 285/300\n",
      "750/750 [==============================] - 0s 110us/sample - loss: 0.0370\n",
      "Epoch 286/300\n",
      "750/750 [==============================] - 0s 78us/sample - loss: 0.0370\n",
      "Epoch 287/300\n",
      "750/750 [==============================] - 0s 90us/sample - loss: 0.0369\n",
      "Epoch 288/300\n",
      "750/750 [==============================] - 0s 87us/sample - loss: 0.0367\n",
      "Epoch 289/300\n",
      "750/750 [==============================] - 0s 81us/sample - loss: 0.0368\n",
      "Epoch 290/300\n",
      "750/750 [==============================] - 0s 69us/sample - loss: 0.0367\n",
      "Epoch 291/300\n",
      "750/750 [==============================] - 0s 212us/sample - loss: 0.0370\n",
      "Epoch 292/300\n",
      "750/750 [==============================] - 0s 183us/sample - loss: 0.0369\n",
      "Epoch 293/300\n",
      "750/750 [==============================] - 0s 148us/sample - loss: 0.0370\n",
      "Epoch 294/300\n",
      "750/750 [==============================] - 0s 155us/sample - loss: 0.0370\n",
      "Epoch 295/300\n",
      "750/750 [==============================] - 0s 210us/sample - loss: 0.0366\n",
      "Epoch 296/300\n",
      "750/750 [==============================] - 0s 71us/sample - loss: 0.0368\n",
      "Epoch 297/300\n",
      "750/750 [==============================] - 0s 66us/sample - loss: 0.0370\n",
      "Epoch 298/300\n",
      "750/750 [==============================] - 0s 90us/sample - loss: 0.0368\n",
      "Epoch 299/300\n",
      "750/750 [==============================] - 0s 135us/sample - loss: 0.0367\n",
      "Epoch 300/300\n",
      "750/750 [==============================] - 0s 98us/sample - loss: 0.0370\n"
     ]
    },
    {
     "data": {
      "text/plain": [
       "<tensorflow.python.keras.callbacks.History at 0x7fa48877c050>"
      ]
     },
     "execution_count": 17,
     "metadata": {},
     "output_type": "execute_result"
    }
   ],
   "source": [
    "model.compile(loss='mean_squared_error', optimizer='adam')\n",
    "model.fit(X_train,Y_train, epochs=300, verbose=1)"
   ]
  },
  {
   "cell_type": "markdown",
   "metadata": {},
   "source": [
    "# Testing the trained MLP model"
   ]
  },
  {
   "cell_type": "markdown",
   "metadata": {},
   "source": [
    "We will now use the test samples to test the MLP. Each of these test samples is classified to be in class red or class blue."
   ]
  },
  {
   "cell_type": "code",
   "execution_count": 18,
   "metadata": {},
   "outputs": [],
   "source": [
    "preds = model.predict(X_test)"
   ]
  },
  {
   "cell_type": "code",
   "execution_count": 19,
   "metadata": {},
   "outputs": [
    {
     "data": {
      "text/plain": [
       "numpy.ndarray"
      ]
     },
     "execution_count": 19,
     "metadata": {},
     "output_type": "execute_result"
    }
   ],
   "source": [
    "type(preds)"
   ]
  },
  {
   "cell_type": "code",
   "execution_count": 20,
   "metadata": {},
   "outputs": [
    {
     "data": {
      "text/plain": [
       "(250, 1)"
      ]
     },
     "execution_count": 20,
     "metadata": {},
     "output_type": "execute_result"
    }
   ],
   "source": [
    "preds.shape"
   ]
  },
  {
   "cell_type": "code",
   "execution_count": 21,
   "metadata": {},
   "outputs": [
    {
     "data": {
      "text/plain": [
       "array([[-0.00861284],\n",
       "       [ 0.06600305],\n",
       "       [ 0.06986234],\n",
       "       [ 0.32744333],\n",
       "       [-0.00861284],\n",
       "       [ 0.10694817],\n",
       "       [ 0.04516795],\n",
       "       [ 0.8857614 ],\n",
       "       [ 1.0982757 ],\n",
       "       [-0.04726054],\n",
       "       [ 0.01273355],\n",
       "       [ 0.2637604 ],\n",
       "       [ 0.07134852],\n",
       "       [-0.06395563],\n",
       "       [-0.00861284]], dtype=float32)"
      ]
     },
     "execution_count": 21,
     "metadata": {},
     "output_type": "execute_result"
    }
   ],
   "source": [
    "preds[:15]"
   ]
  },
  {
   "cell_type": "code",
   "execution_count": 22,
   "metadata": {},
   "outputs": [
    {
     "name": "stdout",
     "output_type": "stream",
     "text": [
      "(0.8809587088493276,0.6962127490394017) --> is=[-0.00861284], should=0.0\n",
      "(0.6509859558016493,0.04771286956263432) --> is=[0.06600305], should=0.0\n",
      "(-0.7873698808827501,-0.5071650959375698) --> is=[0.06986234], should=0.0\n",
      "(0.319332770211914,0.5343764932381021) --> is=[0.32744333], should=0.0\n",
      "(0.49969008245279856,-0.9315173256169875) --> is=[-0.00861284], should=0.0\n",
      "(0.6791554890855613,0.42061431095225643) --> is=[0.10694817], should=0.0\n",
      "(-0.7045246085590975,-0.7443394754427868) --> is=[0.04516795], should=0.0\n",
      "(0.33545792350611414,0.0007021007737579854) --> is=[0.8857614], should=1.0\n",
      "(-0.18403771497398735,-0.23046236349080718) --> is=[1.0982757], should=1.0\n",
      "(-0.43006783688731853,0.9229214947752462) --> is=[-0.04726054], should=0.0\n"
     ]
    },
    {
     "data": {
      "image/png": "[encoded data removed]",
      "text/plain": [
       "<Figure size 432x288 with 1 Axes>"
      ]
     },
     "metadata": {
      "needs_background": "light"
     },
     "output_type": "display_data"
    }
   ],
   "source": [
    "for pred_nr in range(0, X_test.shape[0]):\n",
    "    \n",
    "    x = X_test[pred_nr,0]\n",
    "    y = X_test[pred_nr,1]\n",
    "    \n",
    "    if pred_nr < 10:        \n",
    "        print(\"({0},{1}) --> is={2}, should={3}\"\n",
    "              .format(x,y, preds[pred_nr], Y_test[pred_nr]))\n",
    "        \n",
    "    pred_value = preds[pred_nr][0]\n",
    "            \n",
    "    if (pred_value > 0.5):\n",
    "        plt.plot(x,y, 'r+')\n",
    "    else:\n",
    "        plt.plot(x,y, 'bo')\n",
    "        \n",
    "plt.show()    "
   ]
  },
  {
   "cell_type": "code",
   "execution_count": null,
   "metadata": {},
   "outputs": [],
   "source": []
  }
 ],
 "metadata": {
  "kernelspec": {
   "display_name": "Python 3",
   "language": "python",
   "name": "python3"
  },
  "language_info": {
   "codemirror_mode": {
    "name": "ipython",
    "version": 3
   },
   "file_extension": ".py",
   "mimetype": "text/x-python",
   "name": "python",
   "nbconvert_exporter": "python",
   "pygments_lexer": "ipython3",
   "version": "3.7.7"
  },
  "toc": {
   "base_numbering": 1,
   "nav_menu": {},
   "number_sections": true,
   "sideBar": true,
   "skip_h1_title": false,
   "title_cell": "Table of Contents",
   "title_sidebar": "Contents",
   "toc_cell": true,
   "toc_position": {
    "height": "calc(100% - 180px)",
    "left": "10px",
    "top": "150px",
    "width": "165px"
   },
   "toc_section_display": true,
   "toc_window_display": false
  }
 },
 "nbformat": 4,
 "nbformat_minor": 4
}
