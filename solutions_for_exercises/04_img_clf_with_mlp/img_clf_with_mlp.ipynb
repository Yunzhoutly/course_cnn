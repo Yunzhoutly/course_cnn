{
 "cells": [
  {
   "cell_type": "markdown",
   "metadata": {},
   "source": [
    "# Introduction\n",
    "\n",
    "In this notebook we try to classify images with a MLP. Does this work?\n",
    "\n",
    "We try this, since MLPs are normally not used for image classification. Why?\n",
    "\n",
    "Let's learn more about the reason why MLPs are not used for image classification by trying it out!"
   ]
  },
  {
   "cell_type": "markdown",
   "metadata": {},
   "source": [
    "# Check dependencies"
   ]
  },
  {
   "cell_type": "code",
   "execution_count": 1,
   "metadata": {},
   "outputs": [
    {
     "name": "stdout",
     "output_type": "stream",
     "text": [
      "3.1.3\n",
      "1.18.1\n",
      "4.2.0\n",
      "4.0\n",
      "2.1.0\n"
     ]
    }
   ],
   "source": [
    "import matplotlib\n",
    "print(matplotlib.__version__)\n",
    "\n",
    "import numpy as np\n",
    "print(np.__version__)\n",
    "\n",
    "import cv2\n",
    "print(cv2.__version__)\n",
    "\n",
    "import pickle\n",
    "print(pickle.format_version)\n",
    "\n",
    "import tensorflow\n",
    "print(tensorflow.__version__)"
   ]
  },
  {
   "cell_type": "markdown",
   "metadata": {},
   "source": [
    "# Load in the image dataset generated before"
   ]
  },
  {
   "cell_type": "code",
   "execution_count": 2,
   "metadata": {},
   "outputs": [],
   "source": [
    "fname = \"../../004_generating_image_data/persons_icons_dataset.pkl\"\n",
    "\n",
    "fobj = open(fname, \"rb\")\n",
    "dataset = pickle.load(fobj)\n",
    "fobj.close()"
   ]
  },
  {
   "cell_type": "code",
   "execution_count": 3,
   "metadata": {},
   "outputs": [
    {
     "data": {
      "text/plain": [
       "list"
      ]
     },
     "execution_count": 3,
     "metadata": {},
     "output_type": "execute_result"
    }
   ],
   "source": [
    "type(dataset)"
   ]
  },
  {
   "cell_type": "code",
   "execution_count": 4,
   "metadata": {},
   "outputs": [
    {
     "data": {
      "text/plain": [
       "2"
      ]
     },
     "execution_count": 4,
     "metadata": {},
     "output_type": "execute_result"
    }
   ],
   "source": [
    "len(dataset)"
   ]
  },
  {
   "cell_type": "code",
   "execution_count": 5,
   "metadata": {},
   "outputs": [],
   "source": [
    "list_imgs, list_labels = dataset"
   ]
  },
  {
   "cell_type": "code",
   "execution_count": 6,
   "metadata": {},
   "outputs": [
    {
     "data": {
      "text/plain": [
       "500"
      ]
     },
     "execution_count": 6,
     "metadata": {},
     "output_type": "execute_result"
    }
   ],
   "source": [
    "len(list_imgs)"
   ]
  },
  {
   "cell_type": "code",
   "execution_count": 7,
   "metadata": {},
   "outputs": [
    {
     "data": {
      "text/plain": [
       "500"
      ]
     },
     "execution_count": 7,
     "metadata": {},
     "output_type": "execute_result"
    }
   ],
   "source": [
    "len(list_labels)"
   ]
  },
  {
   "cell_type": "code",
   "execution_count": 8,
   "metadata": {},
   "outputs": [
    {
     "data": {
      "text/plain": [
       "[array([[0., 0., 0., ..., 0., 0., 0.],\n",
       "        [0., 0., 0., ..., 0., 0., 0.],\n",
       "        [0., 0., 0., ..., 0., 0., 0.],\n",
       "        ...,\n",
       "        [0., 0., 0., ..., 0., 0., 0.],\n",
       "        [0., 0., 0., ..., 0., 0., 0.],\n",
       "        [0., 0., 0., ..., 0., 0., 0.]]),\n",
       " array([[0., 0., 0., ..., 0., 0., 0.],\n",
       "        [0., 0., 0., ..., 0., 0., 0.],\n",
       "        [0., 0., 0., ..., 0., 0., 0.],\n",
       "        ...,\n",
       "        [0., 0., 0., ..., 0., 0., 0.],\n",
       "        [0., 0., 0., ..., 0., 0., 0.],\n",
       "        [0., 0., 0., ..., 0., 0., 0.]])]"
      ]
     },
     "execution_count": 8,
     "metadata": {},
     "output_type": "execute_result"
    }
   ],
   "source": [
    "list_imgs[:2]"
   ]
  },
  {
   "cell_type": "code",
   "execution_count": 9,
   "metadata": {},
   "outputs": [
    {
     "data": {
      "text/plain": [
       "[0, 0]"
      ]
     },
     "execution_count": 9,
     "metadata": {},
     "output_type": "execute_result"
    }
   ],
   "source": [
    "list_labels[:2]"
   ]
  },
  {
   "cell_type": "code",
   "execution_count": 10,
   "metadata": {},
   "outputs": [
    {
     "data": {
      "image/png": "[encoded data removed]",
      "text/plain": [
       "<Figure size 432x288 with 1 Axes>"
      ]
     },
     "metadata": {
      "needs_background": "light"
     },
     "output_type": "display_data"
    }
   ],
   "source": [
    "import matplotlib.pyplot as plt\n",
    "\n",
    "plt.imshow(list_imgs[0], cmap=\"gray\")\n",
    "plt.show()"
   ]
  },
  {
   "cell_type": "code",
   "execution_count": 11,
   "metadata": {},
   "outputs": [
    {
     "data": {
      "text/plain": [
       "0"
      ]
     },
     "execution_count": 11,
     "metadata": {},
     "output_type": "execute_result"
    }
   ],
   "source": [
    "label = list_labels[0]\n",
    "label"
   ]
  },
  {
   "cell_type": "code",
   "execution_count": 12,
   "metadata": {},
   "outputs": [
    {
     "data": {
      "text/plain": [
       "(0, 4)"
      ]
     },
     "execution_count": 12,
     "metadata": {},
     "output_type": "execute_result"
    }
   ],
   "source": [
    "min(list_labels), max(list_labels)"
   ]
  },
  {
   "cell_type": "code",
   "execution_count": 13,
   "metadata": {},
   "outputs": [
    {
     "data": {
      "text/plain": [
       "5"
      ]
     },
     "execution_count": 13,
     "metadata": {},
     "output_type": "execute_result"
    }
   ],
   "source": [
    "nr_object_classes = max(list_labels)+1\n",
    "nr_object_classes"
   ]
  },
  {
   "cell_type": "markdown",
   "metadata": {},
   "source": [
    "# Prepare input and output matrices"
   ]
  },
  {
   "cell_type": "code",
   "execution_count": 14,
   "metadata": {},
   "outputs": [],
   "source": [
    "example_img = list_imgs[0]"
   ]
  },
  {
   "cell_type": "code",
   "execution_count": 15,
   "metadata": {},
   "outputs": [
    {
     "data": {
      "text/plain": [
       "numpy.ndarray"
      ]
     },
     "execution_count": 15,
     "metadata": {},
     "output_type": "execute_result"
    }
   ],
   "source": [
    "type(example_img)"
   ]
  },
  {
   "cell_type": "code",
   "execution_count": 16,
   "metadata": {},
   "outputs": [
    {
     "data": {
      "text/plain": [
       "(300, 300)"
      ]
     },
     "execution_count": 16,
     "metadata": {},
     "output_type": "execute_result"
    }
   ],
   "source": [
    "example_img.shape"
   ]
  },
  {
   "cell_type": "code",
   "execution_count": 17,
   "metadata": {},
   "outputs": [
    {
     "data": {
      "text/plain": [
       "90000"
      ]
     },
     "execution_count": 17,
     "metadata": {},
     "output_type": "execute_result"
    }
   ],
   "source": [
    "vec_len = example_img.shape[0] * example_img.shape[1]\n",
    "vec_len"
   ]
  },
  {
   "cell_type": "code",
   "execution_count": 18,
   "metadata": {},
   "outputs": [
    {
     "data": {
      "text/plain": [
       "90000"
      ]
     },
     "execution_count": 18,
     "metadata": {},
     "output_type": "execute_result"
    }
   ],
   "source": [
    "example_img.size"
   ]
  },
  {
   "cell_type": "code",
   "execution_count": 19,
   "metadata": {},
   "outputs": [
    {
     "data": {
      "text/plain": [
       "500"
      ]
     },
     "execution_count": 19,
     "metadata": {},
     "output_type": "execute_result"
    }
   ],
   "source": [
    "nr_images = len(list_imgs)\n",
    "nr_images"
   ]
  },
  {
   "cell_type": "code",
   "execution_count": 20,
   "metadata": {},
   "outputs": [],
   "source": [
    "X = np.zeros((nr_images, vec_len))"
   ]
  },
  {
   "cell_type": "code",
   "execution_count": 21,
   "metadata": {},
   "outputs": [
    {
     "data": {
      "text/plain": [
       "(500, 90000)"
      ]
     },
     "execution_count": 21,
     "metadata": {},
     "output_type": "execute_result"
    }
   ],
   "source": [
    "X.shape"
   ]
  },
  {
   "cell_type": "code",
   "execution_count": 22,
   "metadata": {},
   "outputs": [],
   "source": [
    "Y = np.zeros((nr_images, nr_object_classes))"
   ]
  },
  {
   "cell_type": "code",
   "execution_count": 23,
   "metadata": {},
   "outputs": [],
   "source": [
    "def get_one_hot_vec(length, pos):\n",
    "    vec = np.zeros(length)\n",
    "    vec[pos] = 1\n",
    "    return vec"
   ]
  },
  {
   "cell_type": "code",
   "execution_count": 24,
   "metadata": {},
   "outputs": [
    {
     "data": {
      "text/plain": [
       "array([0., 0., 1., 0., 0.])"
      ]
     },
     "execution_count": 24,
     "metadata": {},
     "output_type": "execute_result"
    }
   ],
   "source": [
    "test_vec = get_one_hot_vec(nr_object_classes, 2)\n",
    "test_vec"
   ]
  },
  {
   "cell_type": "code",
   "execution_count": 25,
   "metadata": {},
   "outputs": [],
   "source": [
    "for img_nr in range(0, nr_images):\n",
    "    \n",
    "    # get the next image\n",
    "    img = list_imgs[img_nr]\n",
    "    \n",
    "    # represent image as one long vector\n",
    "    input_vec = img.flatten()\n",
    "    \n",
    "    # save image as data row in input matrix\n",
    "    X[img_nr,:] = input_vec\n",
    "    \n",
    "    # get label (0,1,2,3,or 4)\n",
    "    label = list_labels[img_nr]\n",
    "    \n",
    "    # save label as one-hot encoded vector    \n",
    "    Y[img_nr,:] = get_one_hot_vec(nr_object_classes, label)"
   ]
  },
  {
   "cell_type": "markdown",
   "metadata": {},
   "source": [
    "# Split image data into train and test data"
   ]
  },
  {
   "cell_type": "code",
   "execution_count": 26,
   "metadata": {},
   "outputs": [
    {
     "data": {
      "text/plain": [
       "500"
      ]
     },
     "execution_count": 26,
     "metadata": {},
     "output_type": "execute_result"
    }
   ],
   "source": [
    "N = len(X)\n",
    "N"
   ]
  },
  {
   "cell_type": "code",
   "execution_count": 27,
   "metadata": {},
   "outputs": [
    {
     "data": {
      "text/plain": [
       "250"
      ]
     },
     "execution_count": 27,
     "metadata": {},
     "output_type": "execute_result"
    }
   ],
   "source": [
    "half = int(N/2)\n",
    "half"
   ]
  },
  {
   "cell_type": "code",
   "execution_count": 28,
   "metadata": {},
   "outputs": [],
   "source": [
    "X_train = X[:half]\n",
    "Y_train = Y[:half]\n",
    "\n",
    "X_test  = X[half:]\n",
    "Y_test  = Y[half:]"
   ]
  },
  {
   "cell_type": "code",
   "execution_count": 29,
   "metadata": {},
   "outputs": [
    {
     "data": {
      "text/plain": [
       "(250, 90000)"
      ]
     },
     "execution_count": 29,
     "metadata": {},
     "output_type": "execute_result"
    }
   ],
   "source": [
    "X_train.shape"
   ]
  },
  {
   "cell_type": "code",
   "execution_count": 30,
   "metadata": {},
   "outputs": [
    {
     "data": {
      "text/plain": [
       "(250, 90000)"
      ]
     },
     "execution_count": 30,
     "metadata": {},
     "output_type": "execute_result"
    }
   ],
   "source": [
    "X_test.shape"
   ]
  },
  {
   "cell_type": "code",
   "execution_count": 31,
   "metadata": {},
   "outputs": [
    {
     "data": {
      "text/plain": [
       "250"
      ]
     },
     "execution_count": 31,
     "metadata": {},
     "output_type": "execute_result"
    }
   ],
   "source": [
    "len(Y_train)"
   ]
  },
  {
   "cell_type": "code",
   "execution_count": 32,
   "metadata": {},
   "outputs": [
    {
     "data": {
      "text/plain": [
       "250"
      ]
     },
     "execution_count": 32,
     "metadata": {},
     "output_type": "execute_result"
    }
   ],
   "source": [
    "len(Y_test)"
   ]
  },
  {
   "cell_type": "markdown",
   "metadata": {},
   "source": [
    "# Build the MLP model"
   ]
  },
  {
   "cell_type": "code",
   "execution_count": 33,
   "metadata": {},
   "outputs": [
    {
     "name": "stdout",
     "output_type": "stream",
     "text": [
      "Model: \"sequential\"\n",
      "_________________________________________________________________\n",
      "Layer (type)                 Output Shape              Param #   \n",
      "=================================================================\n",
      "hidden_layer_1 (Dense)       (None, 50)                4500050   \n",
      "_________________________________________________________________\n",
      "hidden_layer_2 (Dense)       (None, 25)                1275      \n",
      "_________________________________________________________________\n",
      "output_layer (Dense)         (None, 5)                 130       \n",
      "=================================================================\n",
      "Total params: 4,501,455\n",
      "Trainable params: 4,501,455\n",
      "Non-trainable params: 0\n",
      "_________________________________________________________________\n"
     ]
    }
   ],
   "source": [
    "from tensorflow.keras.models import Sequential\n",
    "from tensorflow.keras import layers\n",
    "from tensorflow.keras.layers import Dense\n",
    "from tensorflow.keras import backend as K\n",
    "\n",
    "K.clear_session()\n",
    "\n",
    "nr_hidden_neurons_layer1 = 50\n",
    "nr_hidden_neurons_layer2 = 25\n",
    "nr_output_neurons = nr_object_classes\n",
    "\n",
    "model = Sequential()\n",
    "model.add(Dense(nr_hidden_neurons_layer1, activation=\"relu\", name=\"hidden_layer_1\", input_dim=vec_len))\n",
    "model.add(Dense(nr_hidden_neurons_layer2, activation=\"relu\", name=\"hidden_layer_2\"))\n",
    "model.add(Dense(nr_output_neurons, activation=\"linear\", name=\"output_layer\"))\n",
    "\n",
    "model.compile(loss='mean_squared_error', optimizer='sgd')\n",
    "\n",
    "model.summary()"
   ]
  },
  {
   "cell_type": "markdown",
   "metadata": {},
   "source": [
    "# Test the model before training"
   ]
  },
  {
   "cell_type": "code",
   "execution_count": 34,
   "metadata": {},
   "outputs": [],
   "source": [
    "def test_model(model, X_test, Y_test, show_some_predictions=False):\n",
    "    preds = model.predict(X_test)\n",
    "    \n",
    "    nr_test_samples = Y_test.shape[0]\n",
    "    correct = 0\n",
    "    for test_nr in range(0,nr_test_samples):        \n",
    "        should_label = np.argmax(Y_test[test_nr])\n",
    "        is_label     = np.argmax(preds[test_nr])\n",
    "        \n",
    "        if should_label==is_label:\n",
    "            correct += 1\n",
    "        \n",
    "        if show_some_predictions and test_nr<10:\n",
    "            print(\"Should: {0} vs. Is: {1}\".format(Y_test[test_nr], preds[test_nr]))\n",
    "            print(\"Should label: {0} vs. Is label: {1}\\n\".format(should_label, is_label))            \n",
    "            \n",
    "    correctly_classified_percent = (correct / nr_test_samples) * 100.0\n",
    "    print(\"Correctly classified: {0:.2f}\".format(correctly_classified_percent))"
   ]
  },
  {
   "cell_type": "code",
   "execution_count": 35,
   "metadata": {},
   "outputs": [
    {
     "name": "stdout",
     "output_type": "stream",
     "text": [
      "Should: [0. 0. 1. 0. 0.] vs. Is: [-0.02139313 -0.06036071 -0.14917985  0.01042278  0.00065477]\n",
      "Should label: 2 vs. Is label: 3\n",
      "\n",
      "Should: [0. 0. 0. 1. 0.] vs. Is: [-0.03194437 -0.04915116 -0.06906702  0.08152319  0.07304819]\n",
      "Should label: 3 vs. Is label: 3\n",
      "\n",
      "Should: [1. 0. 0. 0. 0.] vs. Is: [-0.04832779  0.01911949 -0.00082991  0.10464539  0.00983487]\n",
      "Should label: 0 vs. Is label: 3\n",
      "\n",
      "Should: [0. 0. 0. 1. 0.] vs. Is: [-0.00581807 -0.01094147 -0.03858122  0.02634466  0.03127552]\n",
      "Should label: 3 vs. Is label: 4\n",
      "\n",
      "Should: [0. 1. 0. 0. 0.] vs. Is: [ 0.00894245  0.10871682 -0.02650226 -0.05481427 -0.01674141]\n",
      "Should label: 1 vs. Is label: 1\n",
      "\n",
      "Should: [0. 0. 0. 1. 0.] vs. Is: [-0.00780314  0.03675433  0.01100217  0.04978883  0.01946811]\n",
      "Should label: 3 vs. Is label: 3\n",
      "\n",
      "Should: [1. 0. 0. 0. 0.] vs. Is: [ 0.00501184  0.00178031 -0.10703012 -0.02786639  0.0178686 ]\n",
      "Should label: 0 vs. Is label: 4\n",
      "\n",
      "Should: [0. 0. 0. 1. 0.] vs. Is: [ 0.00645393  0.02533712 -0.1148404   0.01057194  0.00488255]\n",
      "Should label: 3 vs. Is label: 1\n",
      "\n",
      "Should: [1. 0. 0. 0. 0.] vs. Is: [-0.00655846  0.05547543 -0.01117242  0.06802092  0.07993529]\n",
      "Should label: 0 vs. Is label: 4\n",
      "\n",
      "Should: [0. 1. 0. 0. 0.] vs. Is: [ 0.12069951 -0.00428369 -0.04368163  0.04014946  0.16174433]\n",
      "Should label: 1 vs. Is label: 4\n",
      "\n",
      "Correctly classified: 21.60\n"
     ]
    }
   ],
   "source": [
    "test_model(model, X_test, Y_test, show_some_predictions=True)"
   ]
  },
  {
   "cell_type": "code",
   "execution_count": 36,
   "metadata": {},
   "outputs": [
    {
     "name": "stdout",
     "output_type": "stream",
     "text": [
      "Should: [1. 0. 0. 0. 0.] vs. Is: [-0.03851479 -0.07200722 -0.02816774  0.1352952   0.03161041]\n",
      "Should label: 0 vs. Is label: 3\n",
      "\n",
      "Should: [1. 0. 0. 0. 0.] vs. Is: [0.00330876 0.02269603 0.04202848 0.05441671 0.07678206]\n",
      "Should label: 0 vs. Is label: 4\n",
      "\n",
      "Should: [0. 0. 1. 0. 0.] vs. Is: [ 0.10032685  0.01814581 -0.14908157 -0.05595406 -0.00051673]\n",
      "Should label: 2 vs. Is label: 0\n",
      "\n",
      "Should: [0. 0. 1. 0. 0.] vs. Is: [-0.00226739  0.00657196 -0.19544709 -0.02363713  0.05268876]\n",
      "Should label: 2 vs. Is label: 4\n",
      "\n",
      "Should: [0. 0. 1. 0. 0.] vs. Is: [-0.057047   -0.141856   -0.26883686  0.11098139 -0.12541768]\n",
      "Should label: 2 vs. Is label: 3\n",
      "\n",
      "Should: [0. 1. 0. 0. 0.] vs. Is: [-0.01873351 -0.01107991 -0.04404336  0.04899665  0.03210593]\n",
      "Should label: 1 vs. Is label: 3\n",
      "\n",
      "Should: [1. 0. 0. 0. 0.] vs. Is: [-0.10395652 -0.12843104 -0.04406597  0.17457129  0.02249594]\n",
      "Should label: 0 vs. Is label: 3\n",
      "\n",
      "Should: [0. 0. 1. 0. 0.] vs. Is: [ 0.0277376  -0.02893491 -0.0405673   0.02671176 -0.01270687]\n",
      "Should label: 2 vs. Is label: 0\n",
      "\n",
      "Should: [0. 0. 0. 0. 1.] vs. Is: [ 0.06593549  0.00333752 -0.03770422  0.13176334  0.10228201]\n",
      "Should label: 4 vs. Is label: 3\n",
      "\n",
      "Should: [0. 0. 0. 0. 1.] vs. Is: [-0.01535938 -0.00168771 -0.01100041  0.0972349   0.07920928]\n",
      "Should label: 4 vs. Is label: 3\n",
      "\n",
      "Correctly classified: 15.60\n"
     ]
    }
   ],
   "source": [
    "test_model(model, X_train, Y_train, show_some_predictions=True)"
   ]
  },
  {
   "cell_type": "markdown",
   "metadata": {},
   "source": [
    "# Train the MLP"
   ]
  },
  {
   "cell_type": "code",
   "execution_count": 37,
   "metadata": {},
   "outputs": [
    {
     "name": "stdout",
     "output_type": "stream",
     "text": [
      "Train on 250 samples\n",
      "Epoch 1/100\n",
      "250/250 [==============================] - 1s 2ms/sample - loss: 0.2084\n",
      "Epoch 2/100\n",
      "250/250 [==============================] - 0s 1ms/sample - loss: 0.1847\n",
      "Epoch 3/100\n",
      "250/250 [==============================] - 0s 1ms/sample - loss: 0.1692\n",
      "Epoch 4/100\n",
      "250/250 [==============================] - 0s 1ms/sample - loss: 0.1578\n",
      "Epoch 5/100\n",
      "250/250 [==============================] - 0s 2ms/sample - loss: 0.1488\n",
      "Epoch 6/100\n",
      "250/250 [==============================] - 0s 1ms/sample - loss: 0.1410\n",
      "Epoch 7/100\n",
      "250/250 [==============================] - 0s 1ms/sample - loss: 0.1343\n",
      "Epoch 8/100\n",
      "250/250 [==============================] - 0s 2ms/sample - loss: 0.1283\n",
      "Epoch 9/100\n",
      "250/250 [==============================] - 0s 2ms/sample - loss: 0.1229\n",
      "Epoch 10/100\n",
      "250/250 [==============================] - 0s 1ms/sample - loss: 0.1180\n",
      "Epoch 11/100\n",
      "250/250 [==============================] - 0s 1ms/sample - loss: 0.1136\n",
      "Epoch 12/100\n",
      "250/250 [==============================] - 0s 1ms/sample - loss: 0.1096\n",
      "Epoch 13/100\n",
      "250/250 [==============================] - 0s 1ms/sample - loss: 0.1058\n",
      "Epoch 14/100\n",
      "250/250 [==============================] - 0s 1ms/sample - loss: 0.1023\n",
      "Epoch 15/100\n",
      "250/250 [==============================] - 0s 2ms/sample - loss: 0.0991\n",
      "Epoch 16/100\n",
      "250/250 [==============================] - 0s 2ms/sample - loss: 0.0961\n",
      "Epoch 17/100\n",
      "250/250 [==============================] - 0s 1ms/sample - loss: 0.0932\n",
      "Epoch 18/100\n",
      "250/250 [==============================] - 0s 1ms/sample - loss: 0.0904\n",
      "Epoch 19/100\n",
      "250/250 [==============================] - 0s 1ms/sample - loss: 0.0878\n",
      "Epoch 20/100\n",
      "250/250 [==============================] - 0s 2ms/sample - loss: 0.0855\n",
      "Epoch 21/100\n",
      "250/250 [==============================] - 0s 1ms/sample - loss: 0.0832\n",
      "Epoch 22/100\n",
      "250/250 [==============================] - 0s 1ms/sample - loss: 0.0810\n",
      "Epoch 23/100\n",
      "250/250 [==============================] - 0s 2ms/sample - loss: 0.0789\n",
      "Epoch 24/100\n",
      "250/250 [==============================] - 0s 1ms/sample - loss: 0.0768\n",
      "Epoch 25/100\n",
      "250/250 [==============================] - 0s 1ms/sample - loss: 0.0749\n",
      "Epoch 26/100\n",
      "250/250 [==============================] - 0s 1ms/sample - loss: 0.0730\n",
      "Epoch 27/100\n",
      "250/250 [==============================] - 0s 2ms/sample - loss: 0.0711\n",
      "Epoch 28/100\n",
      "250/250 [==============================] - 0s 2ms/sample - loss: 0.0694\n",
      "Epoch 29/100\n",
      "250/250 [==============================] - 0s 1ms/sample - loss: 0.0677\n",
      "Epoch 30/100\n",
      "250/250 [==============================] - 0s 1ms/sample - loss: 0.0660\n",
      "Epoch 31/100\n",
      "250/250 [==============================] - 0s 2ms/sample - loss: 0.0644\n",
      "Epoch 32/100\n",
      "250/250 [==============================] - 0s 2ms/sample - loss: 0.0628\n",
      "Epoch 33/100\n",
      "250/250 [==============================] - 0s 2ms/sample - loss: 0.0613\n",
      "Epoch 34/100\n",
      "250/250 [==============================] - 0s 2ms/sample - loss: 0.0598\n",
      "Epoch 35/100\n",
      "250/250 [==============================] - 0s 2ms/sample - loss: 0.0584\n",
      "Epoch 36/100\n",
      "250/250 [==============================] - 0s 2ms/sample - loss: 0.0570\n",
      "Epoch 37/100\n",
      "250/250 [==============================] - 0s 2ms/sample - loss: 0.0556\n",
      "Epoch 38/100\n",
      "250/250 [==============================] - 0s 2ms/sample - loss: 0.0544\n",
      "Epoch 39/100\n",
      "250/250 [==============================] - 0s 1ms/sample - loss: 0.0531\n",
      "Epoch 40/100\n",
      "250/250 [==============================] - 0s 2ms/sample - loss: 0.0519\n",
      "Epoch 41/100\n",
      "250/250 [==============================] - 0s 1ms/sample - loss: 0.0507\n",
      "Epoch 42/100\n",
      "250/250 [==============================] - 0s 1ms/sample - loss: 0.0495\n",
      "Epoch 43/100\n",
      "250/250 [==============================] - 0s 2ms/sample - loss: 0.0484\n",
      "Epoch 44/100\n",
      "250/250 [==============================] - 0s 1ms/sample - loss: 0.0473\n",
      "Epoch 45/100\n",
      "250/250 [==============================] - 0s 1ms/sample - loss: 0.0462\n",
      "Epoch 46/100\n",
      "250/250 [==============================] - 0s 1ms/sample - loss: 0.0451\n",
      "Epoch 47/100\n",
      "250/250 [==============================] - 0s 2ms/sample - loss: 0.0440\n",
      "Epoch 48/100\n",
      "250/250 [==============================] - 0s 2ms/sample - loss: 0.0430\n",
      "Epoch 49/100\n",
      "250/250 [==============================] - 1s 2ms/sample - loss: 0.0420\n",
      "Epoch 50/100\n",
      "250/250 [==============================] - 0s 1ms/sample - loss: 0.0410\n",
      "Epoch 51/100\n",
      "250/250 [==============================] - 0s 1ms/sample - loss: 0.0400\n",
      "Epoch 52/100\n",
      "250/250 [==============================] - 0s 2ms/sample - loss: 0.0391\n",
      "Epoch 53/100\n",
      "250/250 [==============================] - 0s 1ms/sample - loss: 0.0382\n",
      "Epoch 54/100\n",
      "250/250 [==============================] - 0s 1ms/sample - loss: 0.0373\n",
      "Epoch 55/100\n",
      "250/250 [==============================] - 0s 1ms/sample - loss: 0.0364\n",
      "Epoch 56/100\n",
      "250/250 [==============================] - 0s 2ms/sample - loss: 0.0355\n",
      "Epoch 57/100\n",
      "250/250 [==============================] - 0s 1ms/sample - loss: 0.0347\n",
      "Epoch 58/100\n",
      "250/250 [==============================] - 0s 2ms/sample - loss: 0.0338\n",
      "Epoch 59/100\n",
      "250/250 [==============================] - 0s 1ms/sample - loss: 0.0331\n",
      "Epoch 60/100\n",
      "250/250 [==============================] - 0s 2ms/sample - loss: 0.0323\n",
      "Epoch 61/100\n",
      "250/250 [==============================] - 1s 2ms/sample - loss: 0.0315\n",
      "Epoch 62/100\n",
      "250/250 [==============================] - 0s 1ms/sample - loss: 0.0308\n",
      "Epoch 63/100\n",
      "250/250 [==============================] - 0s 1ms/sample - loss: 0.0301\n",
      "Epoch 64/100\n",
      "250/250 [==============================] - 0s 2ms/sample - loss: 0.0294\n",
      "Epoch 65/100\n",
      "250/250 [==============================] - 0s 2ms/sample - loss: 0.0287\n",
      "Epoch 66/100\n",
      "250/250 [==============================] - 0s 1ms/sample - loss: 0.0280\n",
      "Epoch 67/100\n",
      "250/250 [==============================] - 0s 2ms/sample - loss: 0.0274\n",
      "Epoch 68/100\n",
      "250/250 [==============================] - 0s 1ms/sample - loss: 0.0268\n",
      "Epoch 69/100\n",
      "250/250 [==============================] - 0s 1ms/sample - loss: 0.0261\n",
      "Epoch 70/100\n",
      "250/250 [==============================] - 0s 2ms/sample - loss: 0.0255\n",
      "Epoch 71/100\n",
      "250/250 [==============================] - 0s 2ms/sample - loss: 0.0250\n",
      "Epoch 72/100\n",
      "250/250 [==============================] - 0s 1ms/sample - loss: 0.0244\n",
      "Epoch 73/100\n",
      "250/250 [==============================] - 0s 1ms/sample - loss: 0.0238\n",
      "Epoch 74/100\n",
      "250/250 [==============================] - 0s 1ms/sample - loss: 0.0233\n",
      "Epoch 75/100\n",
      "250/250 [==============================] - 0s 1ms/sample - loss: 0.0228\n",
      "Epoch 76/100\n",
      "250/250 [==============================] - 0s 1ms/sample - loss: 0.0223\n",
      "Epoch 77/100\n",
      "250/250 [==============================] - 0s 1ms/sample - loss: 0.0218\n",
      "Epoch 78/100\n",
      "250/250 [==============================] - 0s 1ms/sample - loss: 0.0213\n",
      "Epoch 79/100\n",
      "250/250 [==============================] - 0s 2ms/sample - loss: 0.0208\n",
      "Epoch 80/100\n",
      "250/250 [==============================] - 0s 1ms/sample - loss: 0.0203\n",
      "Epoch 81/100\n",
      "250/250 [==============================] - 0s 2ms/sample - loss: 0.0199\n",
      "Epoch 82/100\n",
      "250/250 [==============================] - 0s 2ms/sample - loss: 0.0194\n",
      "Epoch 83/100\n",
      "250/250 [==============================] - 0s 2ms/sample - loss: 0.0190\n",
      "Epoch 84/100\n",
      "250/250 [==============================] - 0s 2ms/sample - loss: 0.0186\n",
      "Epoch 85/100\n",
      "250/250 [==============================] - 0s 1ms/sample - loss: 0.0182\n",
      "Epoch 86/100\n",
      "250/250 [==============================] - 0s 2ms/sample - loss: 0.0178\n",
      "Epoch 87/100\n",
      "250/250 [==============================] - 0s 1ms/sample - loss: 0.0174\n",
      "Epoch 88/100\n",
      "250/250 [==============================] - 0s 1ms/sample - loss: 0.0170\n",
      "Epoch 89/100\n",
      "250/250 [==============================] - 0s 2ms/sample - loss: 0.0166\n",
      "Epoch 90/100\n",
      "250/250 [==============================] - 0s 1ms/sample - loss: 0.0163\n",
      "Epoch 91/100\n",
      "250/250 [==============================] - 0s 2ms/sample - loss: 0.0159\n",
      "Epoch 92/100\n",
      "250/250 [==============================] - 0s 1ms/sample - loss: 0.0156\n",
      "Epoch 93/100\n",
      "250/250 [==============================] - 0s 1ms/sample - loss: 0.0152\n",
      "Epoch 94/100\n",
      "250/250 [==============================] - 0s 1ms/sample - loss: 0.0149\n",
      "Epoch 95/100\n",
      "250/250 [==============================] - 0s 2ms/sample - loss: 0.0146\n",
      "Epoch 96/100\n",
      "250/250 [==============================] - 0s 2ms/sample - loss: 0.0143\n",
      "Epoch 97/100\n",
      "250/250 [==============================] - 0s 1ms/sample - loss: 0.0140\n",
      "Epoch 98/100\n",
      "250/250 [==============================] - 0s 2ms/sample - loss: 0.0137\n",
      "Epoch 99/100\n",
      "250/250 [==============================] - 0s 2ms/sample - loss: 0.0134\n",
      "Epoch 100/100\n",
      "250/250 [==============================] - 0s 1ms/sample - loss: 0.0131\n"
     ]
    }
   ],
   "source": [
    "history = model.fit(X_train,Y_train, epochs=100, verbose=1)"
   ]
  },
  {
   "cell_type": "code",
   "execution_count": 38,
   "metadata": {},
   "outputs": [
    {
     "data": {
      "text/plain": [
       "tensorflow.python.keras.callbacks.History"
      ]
     },
     "execution_count": 38,
     "metadata": {},
     "output_type": "execute_result"
    }
   ],
   "source": [
    "type(history)"
   ]
  },
  {
   "cell_type": "code",
   "execution_count": 39,
   "metadata": {},
   "outputs": [
    {
     "data": {
      "text/plain": [
       "dict"
      ]
     },
     "execution_count": 39,
     "metadata": {},
     "output_type": "execute_result"
    }
   ],
   "source": [
    "type(history.history)"
   ]
  },
  {
   "cell_type": "code",
   "execution_count": 40,
   "metadata": {},
   "outputs": [
    {
     "data": {
      "text/plain": [
       "{'loss': [0.20842134523391723,\n",
       "  0.18474912309646607,\n",
       "  0.16916200125217437,\n",
       "  0.15782117998600007,\n",
       "  0.14878101325035095,\n",
       "  0.14103166604042053,\n",
       "  0.13432594990730284,\n",
       "  0.12831747841835023,\n",
       "  0.1228758249282837,\n",
       "  0.11804058623313904,\n",
       "  0.11363530915975571,\n",
       "  0.10962318539619446,\n",
       "  0.10579777735471725,\n",
       "  0.10230668193101883,\n",
       "  0.09908478736877441,\n",
       "  0.09605610120296479,\n",
       "  0.09316770458221435,\n",
       "  0.0904369558095932,\n",
       "  0.08784966158866882,\n",
       "  0.08548491209745407,\n",
       "  0.08319620907306671,\n",
       "  0.08102948129177094,\n",
       "  0.07890127766132354,\n",
       "  0.07683286970853806,\n",
       "  0.074887644469738,\n",
       "  0.07296141457557678,\n",
       "  0.07113301807641983,\n",
       "  0.06936252218484878,\n",
       "  0.06767250806093215,\n",
       "  0.06600333020091056,\n",
       "  0.06437896150350571,\n",
       "  0.06282123559713364,\n",
       "  0.06133623373508453,\n",
       "  0.059840007334947584,\n",
       "  0.05838633951544762,\n",
       "  0.057016367346048355,\n",
       "  0.055640475749969484,\n",
       "  0.0543728529214859,\n",
       "  0.05311473160982132,\n",
       "  0.05186000967025757,\n",
       "  0.05068220537900925,\n",
       "  0.04950040370225906,\n",
       "  0.0483749229311943,\n",
       "  0.04725830116868019,\n",
       "  0.04617264002561569,\n",
       "  0.04509509834647179,\n",
       "  0.044015792548656466,\n",
       "  0.04297385722398758,\n",
       "  0.04199469915032387,\n",
       "  0.041003096729516984,\n",
       "  0.04002623960375786,\n",
       "  0.03909642592072487,\n",
       "  0.03818146702647209,\n",
       "  0.037267093032598494,\n",
       "  0.036361960873007776,\n",
       "  0.035504121661186216,\n",
       "  0.03467789500951767,\n",
       "  0.03384464368224144,\n",
       "  0.03306146197021007,\n",
       "  0.03226592740416527,\n",
       "  0.03152982324361801,\n",
       "  0.03080006830394268,\n",
       "  0.030085749566555024,\n",
       "  0.029382988408207893,\n",
       "  0.028715202778577805,\n",
       "  0.028024510368704795,\n",
       "  0.027372180134058,\n",
       "  0.02676172086596489,\n",
       "  0.026140788316726685,\n",
       "  0.025529932051897047,\n",
       "  0.02495381388068199,\n",
       "  0.02438683894276619,\n",
       "  0.023834371104836462,\n",
       "  0.023287858337163927,\n",
       "  0.022768244698643685,\n",
       "  0.022255606338381768,\n",
       "  0.021754702389240266,\n",
       "  0.02127251498401165,\n",
       "  0.020795773908495904,\n",
       "  0.020326713860034942,\n",
       "  0.019893078088760376,\n",
       "  0.019434546127915384,\n",
       "  0.019001040831208228,\n",
       "  0.018574603706598282,\n",
       "  0.01815687061846256,\n",
       "  0.017765484273433687,\n",
       "  0.01736468471586704,\n",
       "  0.01699204309284687,\n",
       "  0.016607323959469796,\n",
       "  0.016264174088835716,\n",
       "  0.01589687752723694,\n",
       "  0.015556678548455239,\n",
       "  0.015217136770486831,\n",
       "  0.014892689511179924,\n",
       "  0.014576000660657883,\n",
       "  0.014264650374650955,\n",
       "  0.013958815611898899,\n",
       "  0.013676273435354233,\n",
       "  0.013375295497477055,\n",
       "  0.013091099418699742]}"
      ]
     },
     "execution_count": 40,
     "metadata": {},
     "output_type": "execute_result"
    }
   ],
   "source": [
    "history.history"
   ]
  },
  {
   "cell_type": "code",
   "execution_count": 41,
   "metadata": {},
   "outputs": [
    {
     "data": {
      "image/png": "[encoded data removed]",
      "text/plain": [
       "<Figure size 432x288 with 1 Axes>"
      ]
     },
     "metadata": {
      "needs_background": "light"
     },
     "output_type": "display_data"
    }
   ],
   "source": [
    "plt.plot(history.history[\"loss\"])\n",
    "plt.xlabel(\"epoch\", fontsize=15)\n",
    "plt.ylabel(\"loss\", fontsize=15)\n",
    "plt.show()"
   ]
  },
  {
   "cell_type": "markdown",
   "metadata": {},
   "source": [
    "# Test the model after training"
   ]
  },
  {
   "cell_type": "code",
   "execution_count": 42,
   "metadata": {},
   "outputs": [
    {
     "name": "stdout",
     "output_type": "stream",
     "text": [
      "Correctly classified: 100.00\n"
     ]
    }
   ],
   "source": [
    "test_model(model, X_train, Y_train)"
   ]
  },
  {
   "cell_type": "code",
   "execution_count": 43,
   "metadata": {},
   "outputs": [
    {
     "name": "stdout",
     "output_type": "stream",
     "text": [
      "Correctly classified: 19.20\n"
     ]
    }
   ],
   "source": [
    "test_model(model, X_test, Y_test)"
   ]
  },
  {
   "cell_type": "markdown",
   "metadata": {},
   "source": [
    "# Conclusions for the MLP\n",
    "\n",
    "The test of this MLP for image classification shows.\n",
    "\n",
    "It performs perfectly on the **training data**, since it used it huge sets of parameters to directly map the few input images to the desired output values.\n",
    "\n",
    "However, on new images / **test data** (just translated variants of the original image), the MLP is not besser than randomly guessing the class of the image.\n",
    "\n",
    "By this we show that image classification with a MLP is not a good idea. Instead, we need another model that is able to come up with a representation of the image that is (mostly) invariant to translations (and all the other transformations, e.g. rotation).\n",
    "\n",
    "This will lead us to Convolutional Neural Networks (CNN)."
   ]
  },
  {
   "cell_type": "code",
   "execution_count": null,
   "metadata": {},
   "outputs": [],
   "source": []
  }
 ],
 "metadata": {
  "kernelspec": {
   "display_name": "Python 3",
   "language": "python",
   "name": "python3"
  },
  "language_info": {
   "codemirror_mode": {
    "name": "ipython",
    "version": 3
   },
   "file_extension": ".py",
   "mimetype": "text/x-python",
   "name": "python",
   "nbconvert_exporter": "python",
   "pygments_lexer": "ipython3",
   "version": "3.7.7"
  }
 },
 "nbformat": 4,
 "nbformat_minor": 4
}
