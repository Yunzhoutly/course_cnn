{
 "cells": [
  {
   "cell_type": "markdown",
   "metadata": {},
   "source": [
    "# Introduction"
   ]
  },
  {
   "cell_type": "markdown",
   "metadata": {},
   "source": [
    "In this notebook we analyze how important the start weights are for a CNN.\n",
    "\n",
    "**Key question: Do the start weights have a small or large influence on the final classification performance of a CNN?**\n",
    "\n",
    "For this we conduct experiments where we start with different start weights and train a CNN till a certain classification performance is reached and then observe:\n",
    "\n",
    "- Do the training curves differ regarding their form?\n",
    "- How long does it take to reach the final classification performance threshold?"
   ]
  },
  {
   "cell_type": "markdown",
   "metadata": {},
   "source": [
    "# Prepare a train and test dataset"
   ]
  },
  {
   "cell_type": "code",
   "execution_count": 1,
   "metadata": {},
   "outputs": [
    {
     "name": "stdout",
     "output_type": "stream",
     "text": [
      "Welcome to image_dataset class v1.0 by Juergen Brauer\n",
      "Under root folder\n",
      "\t/media/juebrauer/Seagate Expansion Drive/datasets/01_images/18_imagenette2/320px/train/\n",
      "I have found the following 10 subfolders/classes:\n",
      "\n",
      "['cassette_player', 'chain_saw', 'church', 'dog_english_springer', 'fish_tench', 'french_horn', 'garbage_truck', 'gas_pump', 'golf_ball', 'parachute']\n",
      "993 files in subfolder /media/juebrauer/Seagate Expansion Drive/datasets/01_images/18_imagenette2/320px/train//cassette_player/\n",
      "858 files in subfolder /media/juebrauer/Seagate Expansion Drive/datasets/01_images/18_imagenette2/320px/train//chain_saw/\n",
      "941 files in subfolder /media/juebrauer/Seagate Expansion Drive/datasets/01_images/18_imagenette2/320px/train//church/\n",
      "955 files in subfolder /media/juebrauer/Seagate Expansion Drive/datasets/01_images/18_imagenette2/320px/train//dog_english_springer/\n",
      "963 files in subfolder /media/juebrauer/Seagate Expansion Drive/datasets/01_images/18_imagenette2/320px/train//fish_tench/\n",
      "956 files in subfolder /media/juebrauer/Seagate Expansion Drive/datasets/01_images/18_imagenette2/320px/train//french_horn/\n",
      "961 files in subfolder /media/juebrauer/Seagate Expansion Drive/datasets/01_images/18_imagenette2/320px/train//garbage_truck/\n",
      "931 files in subfolder /media/juebrauer/Seagate Expansion Drive/datasets/01_images/18_imagenette2/320px/train//gas_pump/\n",
      "951 files in subfolder /media/juebrauer/Seagate Expansion Drive/datasets/01_images/18_imagenette2/320px/train//golf_ball/\n",
      "960 files in subfolder /media/juebrauer/Seagate Expansion Drive/datasets/01_images/18_imagenette2/320px/train//parachute/\n",
      "In total there are 9469 images\n",
      "\n",
      "Here are the first 3 entries in the list:\n",
      "Entry #0:\n",
      "\t/media/juebrauer/Seagate Expansion Drive/datasets/01_images/18_imagenette2/320px/train//cassette_player/n02979186_21256.JPEG\n",
      "\t0\n",
      "\tcassette_player\n",
      "\t[1. 0. 0. 0. 0. 0. 0. 0. 0. 0.]\n",
      "Entry #1:\n",
      "\t/media/juebrauer/Seagate Expansion Drive/datasets/01_images/18_imagenette2/320px/train//cassette_player/ILSVRC2012_val_00000557.JPEG\n",
      "\t0\n",
      "\tcassette_player\n",
      "\t[1. 0. 0. 0. 0. 0. 0. 0. 0. 0.]\n",
      "Entry #2:\n",
      "\t/media/juebrauer/Seagate Expansion Drive/datasets/01_images/18_imagenette2/320px/train//cassette_player/ILSVRC2012_val_00002034.JPEG\n",
      "\t0\n",
      "\tcassette_player\n",
      "\t[1. 0. 0. 0. 0. 0. 0. 0. 0. 0.]\n",
      "Under root folder\n",
      "\t/media/juebrauer/Seagate Expansion Drive/datasets/01_images/18_imagenette2/320px/val/\n",
      "I have found the following 10 subfolders/classes:\n",
      "\n",
      "['cassette_player', 'chain_saw', 'church', 'dog_english_springer', 'fish_tench', 'french_horn', 'garbage_truck', 'gas_pump', 'golf_ball', 'parachute']\n",
      "357 files in subfolder /media/juebrauer/Seagate Expansion Drive/datasets/01_images/18_imagenette2/320px/val//cassette_player/\n",
      "386 files in subfolder /media/juebrauer/Seagate Expansion Drive/datasets/01_images/18_imagenette2/320px/val//chain_saw/\n",
      "409 files in subfolder /media/juebrauer/Seagate Expansion Drive/datasets/01_images/18_imagenette2/320px/val//church/\n",
      "395 files in subfolder /media/juebrauer/Seagate Expansion Drive/datasets/01_images/18_imagenette2/320px/val//dog_english_springer/\n",
      "387 files in subfolder /media/juebrauer/Seagate Expansion Drive/datasets/01_images/18_imagenette2/320px/val//fish_tench/\n",
      "394 files in subfolder /media/juebrauer/Seagate Expansion Drive/datasets/01_images/18_imagenette2/320px/val//french_horn/\n",
      "389 files in subfolder /media/juebrauer/Seagate Expansion Drive/datasets/01_images/18_imagenette2/320px/val//garbage_truck/\n",
      "419 files in subfolder /media/juebrauer/Seagate Expansion Drive/datasets/01_images/18_imagenette2/320px/val//gas_pump/\n",
      "399 files in subfolder /media/juebrauer/Seagate Expansion Drive/datasets/01_images/18_imagenette2/320px/val//golf_ball/\n",
      "390 files in subfolder /media/juebrauer/Seagate Expansion Drive/datasets/01_images/18_imagenette2/320px/val//parachute/\n",
      "In total there are 3925 images\n",
      "\n",
      "Here are the first 3 entries in the list:\n",
      "Entry #0:\n",
      "\t/media/juebrauer/Seagate Expansion Drive/datasets/01_images/18_imagenette2/320px/val//cassette_player/ILSVRC2012_val_00008651.JPEG\n",
      "\t0\n",
      "\tcassette_player\n",
      "\t[1. 0. 0. 0. 0. 0. 0. 0. 0. 0.]\n",
      "Entry #1:\n",
      "\t/media/juebrauer/Seagate Expansion Drive/datasets/01_images/18_imagenette2/320px/val//cassette_player/ILSVRC2012_val_00020400.JPEG\n",
      "\t0\n",
      "\tcassette_player\n",
      "\t[1. 0. 0. 0. 0. 0. 0. 0. 0. 0.]\n",
      "Entry #2:\n",
      "\t/media/juebrauer/Seagate Expansion Drive/datasets/01_images/18_imagenette2/320px/val//cassette_player/ILSVRC2012_val_00028911.JPEG\n",
      "\t0\n",
      "\tcassette_player\n",
      "\t[1. 0. 0. 0. 0. 0. 0. 0. 0. 0.]\n"
     ]
    }
   ],
   "source": [
    "img_shape = (224,224,3)\n",
    "\n",
    "import sys\n",
    "sys.path.append(\"../../cnn_toolbox\")\n",
    "from cnn_toolbox import image_dataset\n",
    "\n",
    "root_folder = \"/media/juebrauer/Seagate Expansion Drive/datasets/01_images/18_imagenette2/320px/\"\n",
    "root_folder_train = root_folder + \"train/\"\n",
    "root_folder_test  = root_folder + \"val/\"\n",
    "\n",
    "ds_train = image_dataset(name=\"imagenette2\",\n",
    "                         root_folder=root_folder_train,\n",
    "                         img_size=(img_shape[0],img_shape[1]))\n",
    "\n",
    "ds_test = image_dataset(name=\"imagenette2\",\n",
    "                        root_folder=root_folder_test,\n",
    "                        img_size=(img_shape[0],img_shape[1]))"
   ]
  },
  {
   "cell_type": "markdown",
   "metadata": {},
   "source": [
    "# Prepare a helper function to build CNN models"
   ]
  },
  {
   "cell_type": "code",
   "execution_count": 5,
   "metadata": {},
   "outputs": [
    {
     "name": "stdout",
     "output_type": "stream",
     "text": [
      "Model: \"sequential\"\n",
      "_________________________________________________________________\n",
      "Layer (type)                 Output Shape              Param #   \n",
      "=================================================================\n",
      "conv2d (Conv2D)              (None, 222, 222, 256)     7168      \n",
      "_________________________________________________________________\n",
      "max_pooling2d (MaxPooling2D) (None, 111, 111, 256)     0         \n",
      "_________________________________________________________________\n",
      "conv2d_1 (Conv2D)            (None, 109, 109, 256)     590080    \n",
      "_________________________________________________________________\n",
      "max_pooling2d_1 (MaxPooling2 (None, 54, 54, 256)       0         \n",
      "_________________________________________________________________\n",
      "conv2d_2 (Conv2D)            (None, 52, 52, 256)       590080    \n",
      "_________________________________________________________________\n",
      "max_pooling2d_2 (MaxPooling2 (None, 26, 26, 256)       0         \n",
      "_________________________________________________________________\n",
      "conv2d_3 (Conv2D)            (None, 24, 24, 256)       590080    \n",
      "_________________________________________________________________\n",
      "max_pooling2d_3 (MaxPooling2 (None, 12, 12, 256)       0         \n",
      "_________________________________________________________________\n",
      "conv2d_4 (Conv2D)            (None, 10, 10, 256)       590080    \n",
      "_________________________________________________________________\n",
      "max_pooling2d_4 (MaxPooling2 (None, 5, 5, 256)         0         \n",
      "_________________________________________________________________\n",
      "conv2d_5 (Conv2D)            (None, 3, 3, 256)         590080    \n",
      "_________________________________________________________________\n",
      "max_pooling2d_5 (MaxPooling2 (None, 1, 1, 256)         0         \n",
      "_________________________________________________________________\n",
      "flatten (Flatten)            (None, 256)               0         \n",
      "_________________________________________________________________\n",
      "fc1 (Dense)                  (None, 2048)              526336    \n",
      "_________________________________________________________________\n",
      "output (Dense)               (None, 10)                20490     \n",
      "=================================================================\n",
      "Total params: 3,504,394\n",
      "Trainable params: 3,504,394\n",
      "Non-trainable params: 0\n",
      "_________________________________________________________________\n"
     ]
    }
   ],
   "source": [
    "from cnn_toolbox import create_cnn_model\n",
    "\n",
    "model = create_cnn_model(model_name = \"same_nr_filters\",\n",
    "                         input_shape = img_shape,\n",
    "                         nr_outputs = ds_train.nr_classes)\n",
    "model.summary()"
   ]
  },
  {
   "cell_type": "code",
   "execution_count": 6,
   "metadata": {},
   "outputs": [
    {
     "name": "stdout",
     "output_type": "stream",
     "text": [
      "Model: \"sequential\"\n",
      "_________________________________________________________________\n",
      "Layer (type)                 Output Shape              Param #   \n",
      "=================================================================\n",
      "conv2d (Conv2D)              (None, 222, 222, 32)      896       \n",
      "_________________________________________________________________\n",
      "max_pooling2d (MaxPooling2D) (None, 111, 111, 32)      0         \n",
      "_________________________________________________________________\n",
      "conv2d_1 (Conv2D)            (None, 109, 109, 64)      18496     \n",
      "_________________________________________________________________\n",
      "max_pooling2d_1 (MaxPooling2 (None, 54, 54, 64)        0         \n",
      "_________________________________________________________________\n",
      "conv2d_2 (Conv2D)            (None, 52, 52, 128)       73856     \n",
      "_________________________________________________________________\n",
      "max_pooling2d_2 (MaxPooling2 (None, 26, 26, 128)       0         \n",
      "_________________________________________________________________\n",
      "conv2d_3 (Conv2D)            (None, 24, 24, 256)       295168    \n",
      "_________________________________________________________________\n",
      "max_pooling2d_3 (MaxPooling2 (None, 12, 12, 256)       0         \n",
      "_________________________________________________________________\n",
      "conv2d_4 (Conv2D)            (None, 10, 10, 512)       1180160   \n",
      "_________________________________________________________________\n",
      "max_pooling2d_4 (MaxPooling2 (None, 5, 5, 512)         0         \n",
      "_________________________________________________________________\n",
      "conv2d_5 (Conv2D)            (None, 3, 3, 1024)        4719616   \n",
      "_________________________________________________________________\n",
      "max_pooling2d_5 (MaxPooling2 (None, 1, 1, 1024)        0         \n",
      "_________________________________________________________________\n",
      "flatten (Flatten)            (None, 1024)              0         \n",
      "_________________________________________________________________\n",
      "fc1 (Dense)                  (None, 2048)              2099200   \n",
      "_________________________________________________________________\n",
      "output (Dense)               (None, 10)                20490     \n",
      "=================================================================\n",
      "Total params: 8,407,882\n",
      "Trainable params: 8,407,882\n",
      "Non-trainable params: 0\n",
      "_________________________________________________________________\n"
     ]
    }
   ],
   "source": [
    "model = create_cnn_model(model_name = \"inc_nr_filters\",\n",
    "                         input_shape = img_shape,\n",
    "                         nr_outputs = ds_train.nr_classes)\n",
    "model.summary()"
   ]
  },
  {
   "cell_type": "code",
   "execution_count": null,
   "metadata": {},
   "outputs": [],
   "source": []
  }
 ],
 "metadata": {
  "kernelspec": {
   "display_name": "Python 3",
   "language": "python",
   "name": "python3"
  },
  "language_info": {
   "codemirror_mode": {
    "name": "ipython",
    "version": 3
   },
   "file_extension": ".py",
   "mimetype": "text/x-python",
   "name": "python",
   "nbconvert_exporter": "python",
   "pygments_lexer": "ipython3",
   "version": "3.7.7"
  }
 },
 "nbformat": 4,
 "nbformat_minor": 4
}
